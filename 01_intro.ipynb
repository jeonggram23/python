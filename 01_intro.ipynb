{
 "cells": [
  {
   "cell_type": "markdown",
   "id": "cce0b567-7410-4446-833b-80a3b91de1cb",
   "metadata": {},
   "source": [
    "# 01. intro\n",
    "\n",
    "## 단축키\n",
    "\n",
    "- ctrl + enter : 지금 셀 실행\n",
    "- shift + enter : 지금 셀 실행 & 아래로 이동\n",
    "- alt + enter : 지금 셀 실행 & 아래에 새로운 셀 추가\n",
    "\n",
    "- ## 주의사항(대소문사, 띄어쓰기, 스펠링)\n",
    "\n",
    "- 1. Apple / apple\n",
    "  2. git add . / git add.\n",
    "  3. message / massage\n"
   ]
  },
  {
   "cell_type": "code",
   "execution_count": 7,
   "id": "752cb2e0-3db6-4ad8-8ddd-deb6c1c4fd90",
   "metadata": {},
   "outputs": [],
   "source": [
    "# 주석을 나타냅니다."
   ]
  },
  {
   "cell_type": "markdown",
   "id": "4843fc70-2de6-4b06-a056-49ca0bc76df4",
   "metadata": {},
   "source": [
    "# 1. 변수\n",
    "\n",
    "변수이름 = 값\n",
    "\n",
    "- 변수이름은 어떤 이름이든 상관 없음\n",
    "- 다만 영어, 숫자, _ 를 이용하여 선언\n",
    "- 키워드는 사용불가\n",
    "  "
   ]
  },
  {
   "cell_type": "code",
   "execution_count": 8,
   "id": "175fc19d-9dc1-4156-9cef-97ecc20a045f",
   "metadata": {},
   "outputs": [],
   "source": [
    "a = 10"
   ]
  },
  {
   "cell_type": "code",
   "execution_count": 10,
   "id": "75df16ac-77df-4557-805b-453aba0b9027",
   "metadata": {},
   "outputs": [
    {
     "data": {
      "text/plain": [
       "['False',\n",
       " 'None',\n",
       " 'True',\n",
       " 'and',\n",
       " 'as',\n",
       " 'assert',\n",
       " 'async',\n",
       " 'await',\n",
       " 'break',\n",
       " 'class',\n",
       " 'continue',\n",
       " 'def',\n",
       " 'del',\n",
       " 'elif',\n",
       " 'else',\n",
       " 'except',\n",
       " 'finally',\n",
       " 'for',\n",
       " 'from',\n",
       " 'global',\n",
       " 'if',\n",
       " 'import',\n",
       " 'in',\n",
       " 'is',\n",
       " 'lambda',\n",
       " 'nonlocal',\n",
       " 'not',\n",
       " 'or',\n",
       " 'pass',\n",
       " 'raise',\n",
       " 'return',\n",
       " 'try',\n",
       " 'while',\n",
       " 'with',\n",
       " 'yield']"
      ]
     },
     "execution_count": 10,
     "metadata": {},
     "output_type": "execute_result"
    }
   ],
   "source": [
    "import keyword\n",
    "keyword.kwlist"
   ]
  },
  {
   "cell_type": "markdown",
   "id": "bed94304-3e80-43d7-a6ad-322b268e6890",
   "metadata": {},
   "source": [
    "### 1.1 number"
   ]
  },
  {
   "cell_type": "code",
   "execution_count": 11,
   "id": "9642f21f-d0e5-4bf8-84dc-8e2c9b9adada",
   "metadata": {},
   "outputs": [],
   "source": [
    "a = 1000000"
   ]
  },
  {
   "cell_type": "code",
   "execution_count": 21,
   "id": "8f3219f2-caa9-413e-b444-6717381a55b8",
   "metadata": {},
   "outputs": [
    {
     "data": {
      "text/plain": [
       "1000000"
      ]
     },
     "execution_count": 21,
     "metadata": {},
     "output_type": "execute_result"
    }
   ],
   "source": [
    "a"
   ]
  },
  {
   "cell_type": "code",
   "execution_count": 16,
   "id": "165649e3-d4f0-4cc0-a9c3-7ab37c980792",
   "metadata": {},
   "outputs": [
    {
     "data": {
      "text/plain": [
       "int"
      ]
     },
     "execution_count": 16,
     "metadata": {},
     "output_type": "execute_result"
    }
   ],
   "source": [
    "type(a)"
   ]
  },
  {
   "cell_type": "code",
   "execution_count": 17,
   "id": "937c6bb8-3287-43f0-ab87-aa240ee192ad",
   "metadata": {},
   "outputs": [],
   "source": [
    "b = 1.1"
   ]
  },
  {
   "cell_type": "code",
   "execution_count": 19,
   "id": "3230629b-1a8e-4fd5-a94f-4ea38cb2ab69",
   "metadata": {},
   "outputs": [
    {
     "data": {
      "text/plain": [
       "1.1"
      ]
     },
     "execution_count": 19,
     "metadata": {},
     "output_type": "execute_result"
    }
   ],
   "source": [
    "b"
   ]
  },
  {
   "cell_type": "code",
   "execution_count": 20,
   "id": "079418b1-5072-4c13-81d4-f7e0efd0bcd5",
   "metadata": {},
   "outputs": [
    {
     "data": {
      "text/plain": [
       "float"
      ]
     },
     "execution_count": 20,
     "metadata": {},
     "output_type": "execute_result"
    }
   ],
   "source": [
    "type(b)"
   ]
  },
  {
   "cell_type": "code",
   "execution_count": 22,
   "id": "7c3e63a0-3aa7-4dfc-8207-5aaaac4b7ee7",
   "metadata": {},
   "outputs": [],
   "source": [
    "c = 1 - 4j"
   ]
  },
  {
   "cell_type": "code",
   "execution_count": 23,
   "id": "01a1821d-6e38-48d5-bbff-e463d695e9a8",
   "metadata": {},
   "outputs": [
    {
     "data": {
      "text/plain": [
       "(1-4j)"
      ]
     },
     "execution_count": 23,
     "metadata": {},
     "output_type": "execute_result"
    }
   ],
   "source": [
    "c"
   ]
  },
  {
   "cell_type": "code",
   "execution_count": 24,
   "id": "5923b35d-60ab-4a1e-a49a-11f179868b01",
   "metadata": {},
   "outputs": [
    {
     "data": {
      "text/plain": [
       "complex"
      ]
     },
     "execution_count": 24,
     "metadata": {},
     "output_type": "execute_result"
    }
   ],
   "source": [
    "type(c)"
   ]
  },
  {
   "cell_type": "code",
   "execution_count": 26,
   "id": "c3da0df7-8457-4901-8dd9-b7761817c6cf",
   "metadata": {},
   "outputs": [
    {
     "data": {
      "text/plain": [
       "-4.0"
      ]
     },
     "execution_count": 26,
     "metadata": {},
     "output_type": "execute_result"
    }
   ],
   "source": [
    "c.imag"
   ]
  },
  {
   "cell_type": "code",
   "execution_count": 27,
   "id": "11ff86b2-2b42-454f-bd97-72632b94d8be",
   "metadata": {},
   "outputs": [
    {
     "data": {
      "text/plain": [
       "1.0"
      ]
     },
     "execution_count": 27,
     "metadata": {},
     "output_type": "execute_result"
    }
   ],
   "source": [
    "c.real"
   ]
  },
  {
   "cell_type": "markdown",
   "id": "0a7df37a-b543-43cc-af66-b79ff599feab",
   "metadata": {},
   "source": [
    "### 1.2 Boolean\n",
    "\n",
    "True, Flase로 이루어진 타입"
   ]
  },
  {
   "cell_type": "code",
   "execution_count": 29,
   "id": "25e6ae36-ba8f-4405-bbe4-38be75c16cda",
   "metadata": {},
   "outputs": [],
   "source": [
    "a = True"
   ]
  },
  {
   "cell_type": "code",
   "execution_count": 30,
   "id": "80940d7b-80ba-4002-92bd-b3ac850baf5b",
   "metadata": {},
   "outputs": [
    {
     "data": {
      "text/plain": [
       "bool"
      ]
     },
     "execution_count": 30,
     "metadata": {},
     "output_type": "execute_result"
    }
   ],
   "source": [
    "type(a)"
   ]
  },
  {
   "cell_type": "code",
   "execution_count": 31,
   "id": "cc75c8d8-594c-49fa-9ad2-45b439910e7a",
   "metadata": {},
   "outputs": [],
   "source": [
    "b = False"
   ]
  },
  {
   "cell_type": "code",
   "execution_count": 32,
   "id": "56261ed0-6d89-4358-a68f-719fc5d5a689",
   "metadata": {},
   "outputs": [
    {
     "data": {
      "text/plain": [
       "bool"
      ]
     },
     "execution_count": 32,
     "metadata": {},
     "output_type": "execute_result"
    }
   ],
   "source": [
    "type(b)"
   ]
  },
  {
   "cell_type": "code",
   "execution_count": 33,
   "id": "8f28b60e-c967-4453-a66b-86d608960c00",
   "metadata": {},
   "outputs": [
    {
     "data": {
      "text/plain": [
       "False"
      ]
     },
     "execution_count": 33,
     "metadata": {},
     "output_type": "execute_result"
    }
   ],
   "source": [
    "bool(0)"
   ]
  },
  {
   "cell_type": "code",
   "execution_count": 34,
   "id": "caee12e2-18aa-476f-8db9-f4b630f30dd6",
   "metadata": {},
   "outputs": [
    {
     "data": {
      "text/plain": [
       "True"
      ]
     },
     "execution_count": 34,
     "metadata": {},
     "output_type": "execute_result"
    }
   ],
   "source": [
    "bool(1)"
   ]
  },
  {
   "cell_type": "code",
   "execution_count": 35,
   "id": "a4fd0515-a440-4566-b763-a16496b40b94",
   "metadata": {},
   "outputs": [
    {
     "data": {
      "text/plain": [
       "False"
      ]
     },
     "execution_count": 35,
     "metadata": {},
     "output_type": "execute_result"
    }
   ],
   "source": [
    "bool([])"
   ]
  },
  {
   "cell_type": "code",
   "execution_count": 36,
   "id": "516bcd61-7fa9-45f5-92d5-62dbe321f282",
   "metadata": {},
   "outputs": [
    {
     "data": {
      "text/plain": [
       "True"
      ]
     },
     "execution_count": 36,
     "metadata": {},
     "output_type": "execute_result"
    }
   ],
   "source": [
    "bool([1])"
   ]
  },
  {
   "cell_type": "markdown",
   "id": "bf4fb4cb-93ef-4633-ac67-7aa5abc7621a",
   "metadata": {},
   "source": [
    "### 1.3 None"
   ]
  },
  {
   "cell_type": "code",
   "execution_count": 37,
   "id": "96b85295-c075-46a7-abb2-09a18658aafa",
   "metadata": {},
   "outputs": [],
   "source": [
    "a = None"
   ]
  },
  {
   "cell_type": "code",
   "execution_count": 38,
   "id": "2f0ae00f-98b2-4b33-98bd-918d3af04b37",
   "metadata": {},
   "outputs": [
    {
     "data": {
      "text/plain": [
       "NoneType"
      ]
     },
     "execution_count": 38,
     "metadata": {},
     "output_type": "execute_result"
    }
   ],
   "source": [
    "type(a)"
   ]
  },
  {
   "cell_type": "markdown",
   "id": "e9b3e91e-0b6e-42ba-9b7d-b840a12db81c",
   "metadata": {},
   "source": [
    "### 1.4 String\n",
    "\n",
    "- 문자열은 `'` , `\"` 를 이용하여 표현"
   ]
  },
  {
   "cell_type": "code",
   "execution_count": null,
   "id": "249d2a48-1721-45c9-9839-6923028726ee",
   "metadata": {},
   "outputs": [],
   "source": []
  },
  {
   "cell_type": "code",
   "execution_count": 39,
   "id": "9e209c75-3862-46b2-9484-3e89c71ba12d",
   "metadata": {},
   "outputs": [],
   "source": [
    "a = 'hello'"
   ]
  },
  {
   "cell_type": "code",
   "execution_count": 40,
   "id": "690f0210-73f1-483a-a1db-cba42dc56d15",
   "metadata": {},
   "outputs": [
    {
     "data": {
      "text/plain": [
       "str"
      ]
     },
     "execution_count": 40,
     "metadata": {},
     "output_type": "execute_result"
    }
   ],
   "source": [
    "type(a)"
   ]
  },
  {
   "cell_type": "code",
   "execution_count": 43,
   "id": "a992bd00-0632-462a-9e98-ac1baa0f9807",
   "metadata": {},
   "outputs": [
    {
     "name": "stdin",
     "output_type": "stream",
     "text": [
      " 123\n"
     ]
    },
    {
     "name": "stdout",
     "output_type": "stream",
     "text": [
      "123\n",
      "<class 'str'>\n"
     ]
    }
   ],
   "source": [
    "age = input()\n",
    "print(age)\n",
    "print(type(age))"
   ]
  },
  {
   "cell_type": "markdown",
   "id": "4d324eb2-51c2-40af-bbb2-bd648e5ea933",
   "metadata": {},
   "source": [
    "- input으로 받는 것들은 모두 문자로 저장"
   ]
  },
  {
   "cell_type": "code",
   "execution_count": 45,
   "id": "1513b607-4a04-4d4c-ac74-6a7c3fa7d690",
   "metadata": {},
   "outputs": [
    {
     "ename": "SyntaxError",
     "evalue": "invalid syntax. Perhaps you forgot a comma? (950898810.py, line 1)",
     "output_type": "error",
     "traceback": [
      "\u001b[1;36m  Cell \u001b[1;32mIn[45], line 1\u001b[1;36m\u001b[0m\n\u001b[1;33m    print('안녕하세요? '오창희'입니다.')\u001b[0m\n\u001b[1;37m          ^\u001b[0m\n\u001b[1;31mSyntaxError\u001b[0m\u001b[1;31m:\u001b[0m invalid syntax. Perhaps you forgot a comma?\n"
     ]
    }
   ],
   "source": [
    "print('안녕하세요? '오창희'입니다.')"
   ]
  },
  {
   "cell_type": "code",
   "execution_count": null,
   "id": "0e207839-3409-4800-a068-7524be597797",
   "metadata": {},
   "outputs": [],
   "source": []
  },
  {
   "cell_type": "code",
   "execution_count": 46,
   "id": "ae19594d-8668-49b7-9868-21c478c9167d",
   "metadata": {},
   "outputs": [
    {
     "name": "stdout",
     "output_type": "stream",
     "text": [
      "안녕하세요? \"오창희\"입니다.\n"
     ]
    }
   ],
   "source": [
    "print('안녕하세요? \"오창희\"입니다.')"
   ]
  },
  {
   "cell_type": "code",
   "execution_count": 47,
   "id": "bde5dfb6-ca62-43ab-908e-5df85dedb072",
   "metadata": {},
   "outputs": [
    {
     "name": "stdout",
     "output_type": "stream",
     "text": [
      "안녕하세요? '오창희'입니다.\n"
     ]
    }
   ],
   "source": [
    "print('안녕하세요? \\'오창희\\'입니다.')"
   ]
  },
  {
   "cell_type": "code",
   "execution_count": 51,
   "id": "009af967-4683-4cd7-bc03-2d2b4ecc7ecf",
   "metadata": {},
   "outputs": [],
   "source": [
    "a = '''\n",
    "여기는 문자열입니다.\n",
    "엔터를 쳐서 여러줄을 작성할 수 있습니다.\n",
    "'''"
   ]
  },
  {
   "cell_type": "code",
   "execution_count": 52,
   "id": "03ff1681-9f5c-44b7-98b3-a9024e4138f4",
   "metadata": {},
   "outputs": [
    {
     "name": "stdout",
     "output_type": "stream",
     "text": [
      "\n",
      "여기는 문자열입니다.\n",
      "엔터를 쳐서 여러줄을 작성할 수 있습니다.\n",
      "\n"
     ]
    }
   ],
   "source": [
    "print(a)"
   ]
  },
  {
   "cell_type": "code",
   "execution_count": 53,
   "id": "9e3ac98c-7023-426f-802a-30c2cd79a3fb",
   "metadata": {},
   "outputs": [
    {
     "name": "stdout",
     "output_type": "stream",
     "text": [
      "엔터를 입력해봐요 \n",
      "다음줄입니다. \t들여쓰기도 가능합니다\n"
     ]
    }
   ],
   "source": [
    "print('엔터를 입력해봐요 \\n다음줄입니다. \\t들여쓰기도 가능합니다')"
   ]
  },
  {
   "cell_type": "code",
   "execution_count": 55,
   "id": "c1b5cc78-d74f-4cf5-88de-01b0878e7474",
   "metadata": {},
   "outputs": [
    {
     "name": "stdout",
     "output_type": "stream",
     "text": [
      "하나 둘 셋!"
     ]
    }
   ],
   "source": [
    "print('하나', '둘', '셋' , end='!')"
   ]
  },
  {
   "cell_type": "markdown",
   "id": "e0e304f8-4885-4f09-9eca-d5d19e333f4d",
   "metadata": {},
   "source": [
    "- end = 마지막에 느낌표를 붙여줘라"
   ]
  },
  {
   "cell_type": "code",
   "execution_count": 56,
   "id": "be2fe73b-c87f-47f2-b59c-aa3f392a7aeb",
   "metadata": {},
   "outputs": [
    {
     "name": "stdout",
     "output_type": "stream",
     "text": [
      "하나!둘!셋\n"
     ]
    }
   ],
   "source": [
    "print('하나', '둘', '셋' , sep='!')"
   ]
  },
  {
   "cell_type": "markdown",
   "id": "61605c46-f36f-47d3-9a67-18da656b0632",
   "metadata": {},
   "source": [
    " - sep = sep되는 부분에 해당 문자열을 넣어줘라"
   ]
  },
  {
   "cell_type": "markdown",
   "id": "e3e38b93-df42-4c85-8d57-69038aa6a8d6",
   "metadata": {},
   "source": [
    "#### string interpolation\n",
    "\n",
    "1. %-formatting\n",
    "2. str.format()\n",
    "3. f-string"
   ]
  },
  {
   "cell_type": "code",
   "execution_count": 57,
   "id": "3224d186-e32f-4905-8c3d-cff3e0f307ed",
   "metadata": {},
   "outputs": [],
   "source": [
    "age = 20"
   ]
  },
  {
   "cell_type": "code",
   "execution_count": 58,
   "id": "5ac750ae-8c73-4e4a-97c2-75e4f281b187",
   "metadata": {},
   "outputs": [
    {
     "name": "stdout",
     "output_type": "stream",
     "text": [
      "홍길동은 20 살입니다.\n"
     ]
    }
   ],
   "source": [
    "print('홍길동은 %s 살입니다.' % age)"
   ]
  },
  {
   "cell_type": "code",
   "execution_count": 59,
   "id": "9541d84b-ba17-48a1-a80c-cb2711846db3",
   "metadata": {},
   "outputs": [
    {
     "name": "stdout",
     "output_type": "stream",
     "text": [
      "홍길동은 20살입니다.\n"
     ]
    }
   ],
   "source": [
    "print('홍길동은 {}살입니다.' .format(age))"
   ]
  },
  {
   "cell_type": "code",
   "execution_count": 60,
   "id": "c058812d-3946-400d-8bc1-d7aebdd940de",
   "metadata": {},
   "outputs": [
    {
     "name": "stdout",
     "output_type": "stream",
     "text": [
      "홍길동은 20살입니다.\n"
     ]
    }
   ],
   "source": [
    "print(f'홍길동은 {age}살입니다.')"
   ]
  },
  {
   "cell_type": "markdown",
   "id": "7d090157-9c30-4a27-90ed-c064102f79fa",
   "metadata": {},
   "source": [
    "- 3번 방법(f-string)을 제일 많이 이용"
   ]
  },
  {
   "cell_type": "code",
   "execution_count": null,
   "id": "6c873c60-bc0b-433e-832d-8da1de37165e",
   "metadata": {},
   "outputs": [],
   "source": []
  }
 ],
 "metadata": {
  "kernelspec": {
   "display_name": "Python 3 (ipykernel)",
   "language": "python",
   "name": "python3"
  },
  "language_info": {
   "codemirror_mode": {
    "name": "ipython",
    "version": 3
   },
   "file_extension": ".py",
   "mimetype": "text/x-python",
   "name": "python",
   "nbconvert_exporter": "python",
   "pygments_lexer": "ipython3",
   "version": "3.11.4"
  }
 },
 "nbformat": 4,
 "nbformat_minor": 5
}
