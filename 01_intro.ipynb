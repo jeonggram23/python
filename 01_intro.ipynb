{
 "cells": [
  {
   "cell_type": "markdown",
   "id": "cce0b567-7410-4446-833b-80a3b91de1cb",
   "metadata": {},
   "source": [
    "# 01. intro\n",
    "\n",
    "## 단축키\n",
    "\n",
    "- ctrl + enter : 지금 셀 실행\n",
    "- shift + enter : 지금 셀 실행 & 아래로 이동\n",
    "- alt + enter : 지금 셀 실행 & 아래에 새로운 셀 추가\n",
    "\n",
    "- ## 주의사항(대소문사, 띄어쓰기, 스펠링)\n",
    "\n",
    "- 1. Apple / apple\n",
    "  2. git add . / git add.\n",
    "  3. message / massage\n"
   ]
  },
  {
   "cell_type": "code",
   "execution_count": 7,
   "id": "752cb2e0-3db6-4ad8-8ddd-deb6c1c4fd90",
   "metadata": {},
   "outputs": [],
   "source": [
    "# 주석을 나타냅니다."
   ]
  },
  {
   "cell_type": "markdown",
   "id": "4843fc70-2de6-4b06-a056-49ca0bc76df4",
   "metadata": {},
   "source": [
    "# 1. 변수\n",
    "\n",
    "변수이름 = 값\n",
    "\n",
    "- 변수이름은 어떤 이름이든 상관 없음\n",
    "- 다만 영어, 숫자, _ 를 이용하여 선언\n",
    "- 키워드는 사용불가\n",
    "  "
   ]
  },
  {
   "cell_type": "code",
   "execution_count": 8,
   "id": "175fc19d-9dc1-4156-9cef-97ecc20a045f",
   "metadata": {},
   "outputs": [],
   "source": [
    "a = 10"
   ]
  },
  {
   "cell_type": "code",
   "execution_count": 10,
   "id": "75df16ac-77df-4557-805b-453aba0b9027",
   "metadata": {},
   "outputs": [
    {
     "data": {
      "text/plain": [
       "['False',\n",
       " 'None',\n",
       " 'True',\n",
       " 'and',\n",
       " 'as',\n",
       " 'assert',\n",
       " 'async',\n",
       " 'await',\n",
       " 'break',\n",
       " 'class',\n",
       " 'continue',\n",
       " 'def',\n",
       " 'del',\n",
       " 'elif',\n",
       " 'else',\n",
       " 'except',\n",
       " 'finally',\n",
       " 'for',\n",
       " 'from',\n",
       " 'global',\n",
       " 'if',\n",
       " 'import',\n",
       " 'in',\n",
       " 'is',\n",
       " 'lambda',\n",
       " 'nonlocal',\n",
       " 'not',\n",
       " 'or',\n",
       " 'pass',\n",
       " 'raise',\n",
       " 'return',\n",
       " 'try',\n",
       " 'while',\n",
       " 'with',\n",
       " 'yield']"
      ]
     },
     "execution_count": 10,
     "metadata": {},
     "output_type": "execute_result"
    }
   ],
   "source": [
    "import keyword\n",
    "keyword.kwlist"
   ]
  },
  {
   "cell_type": "markdown",
   "id": "bed94304-3e80-43d7-a6ad-322b268e6890",
   "metadata": {},
   "source": [
    "### 1.1 number"
   ]
  },
  {
   "cell_type": "code",
   "execution_count": 11,
   "id": "9642f21f-d0e5-4bf8-84dc-8e2c9b9adada",
   "metadata": {},
   "outputs": [],
   "source": [
    "a = 1000000"
   ]
  },
  {
   "cell_type": "code",
   "execution_count": 21,
   "id": "8f3219f2-caa9-413e-b444-6717381a55b8",
   "metadata": {},
   "outputs": [
    {
     "data": {
      "text/plain": [
       "1000000"
      ]
     },
     "execution_count": 21,
     "metadata": {},
     "output_type": "execute_result"
    }
   ],
   "source": [
    "a"
   ]
  },
  {
   "cell_type": "code",
   "execution_count": 16,
   "id": "165649e3-d4f0-4cc0-a9c3-7ab37c980792",
   "metadata": {},
   "outputs": [
    {
     "data": {
      "text/plain": [
       "int"
      ]
     },
     "execution_count": 16,
     "metadata": {},
     "output_type": "execute_result"
    }
   ],
   "source": [
    "type(a)"
   ]
  },
  {
   "cell_type": "code",
   "execution_count": 17,
   "id": "937c6bb8-3287-43f0-ab87-aa240ee192ad",
   "metadata": {},
   "outputs": [],
   "source": [
    "b = 1.1"
   ]
  },
  {
   "cell_type": "code",
   "execution_count": 19,
   "id": "3230629b-1a8e-4fd5-a94f-4ea38cb2ab69",
   "metadata": {},
   "outputs": [
    {
     "data": {
      "text/plain": [
       "1.1"
      ]
     },
     "execution_count": 19,
     "metadata": {},
     "output_type": "execute_result"
    }
   ],
   "source": [
    "b"
   ]
  },
  {
   "cell_type": "code",
   "execution_count": 20,
   "id": "079418b1-5072-4c13-81d4-f7e0efd0bcd5",
   "metadata": {},
   "outputs": [
    {
     "data": {
      "text/plain": [
       "float"
      ]
     },
     "execution_count": 20,
     "metadata": {},
     "output_type": "execute_result"
    }
   ],
   "source": [
    "type(b)"
   ]
  },
  {
   "cell_type": "code",
   "execution_count": 22,
   "id": "7c3e63a0-3aa7-4dfc-8207-5aaaac4b7ee7",
   "metadata": {},
   "outputs": [],
   "source": [
    "c = 1 - 4j"
   ]
  },
  {
   "cell_type": "code",
   "execution_count": 23,
   "id": "01a1821d-6e38-48d5-bbff-e463d695e9a8",
   "metadata": {},
   "outputs": [
    {
     "data": {
      "text/plain": [
       "(1-4j)"
      ]
     },
     "execution_count": 23,
     "metadata": {},
     "output_type": "execute_result"
    }
   ],
   "source": [
    "c"
   ]
  },
  {
   "cell_type": "code",
   "execution_count": 24,
   "id": "5923b35d-60ab-4a1e-a49a-11f179868b01",
   "metadata": {},
   "outputs": [
    {
     "data": {
      "text/plain": [
       "complex"
      ]
     },
     "execution_count": 24,
     "metadata": {},
     "output_type": "execute_result"
    }
   ],
   "source": [
    "type(c)"
   ]
  },
  {
   "cell_type": "code",
   "execution_count": 26,
   "id": "c3da0df7-8457-4901-8dd9-b7761817c6cf",
   "metadata": {},
   "outputs": [
    {
     "data": {
      "text/plain": [
       "-4.0"
      ]
     },
     "execution_count": 26,
     "metadata": {},
     "output_type": "execute_result"
    }
   ],
   "source": [
    "c.imag"
   ]
  },
  {
   "cell_type": "code",
   "execution_count": 27,
   "id": "11ff86b2-2b42-454f-bd97-72632b94d8be",
   "metadata": {},
   "outputs": [
    {
     "data": {
      "text/plain": [
       "1.0"
      ]
     },
     "execution_count": 27,
     "metadata": {},
     "output_type": "execute_result"
    }
   ],
   "source": [
    "c.real"
   ]
  },
  {
   "cell_type": "markdown",
   "id": "0a7df37a-b543-43cc-af66-b79ff599feab",
   "metadata": {},
   "source": [
    "### 1.2 Boolean\n",
    "\n",
    "True, Flase로 이루어진 타입"
   ]
  },
  {
   "cell_type": "code",
   "execution_count": 29,
   "id": "25e6ae36-ba8f-4405-bbe4-38be75c16cda",
   "metadata": {},
   "outputs": [],
   "source": [
    "a = True"
   ]
  },
  {
   "cell_type": "code",
   "execution_count": 30,
   "id": "80940d7b-80ba-4002-92bd-b3ac850baf5b",
   "metadata": {},
   "outputs": [
    {
     "data": {
      "text/plain": [
       "bool"
      ]
     },
     "execution_count": 30,
     "metadata": {},
     "output_type": "execute_result"
    }
   ],
   "source": [
    "type(a)"
   ]
  },
  {
   "cell_type": "code",
   "execution_count": 31,
   "id": "cc75c8d8-594c-49fa-9ad2-45b439910e7a",
   "metadata": {},
   "outputs": [],
   "source": [
    "b = False"
   ]
  },
  {
   "cell_type": "code",
   "execution_count": 32,
   "id": "56261ed0-6d89-4358-a68f-719fc5d5a689",
   "metadata": {},
   "outputs": [
    {
     "data": {
      "text/plain": [
       "bool"
      ]
     },
     "execution_count": 32,
     "metadata": {},
     "output_type": "execute_result"
    }
   ],
   "source": [
    "type(b)"
   ]
  },
  {
   "cell_type": "code",
   "execution_count": 33,
   "id": "8f28b60e-c967-4453-a66b-86d608960c00",
   "metadata": {},
   "outputs": [
    {
     "data": {
      "text/plain": [
       "False"
      ]
     },
     "execution_count": 33,
     "metadata": {},
     "output_type": "execute_result"
    }
   ],
   "source": [
    "bool(0)"
   ]
  },
  {
   "cell_type": "code",
   "execution_count": 34,
   "id": "caee12e2-18aa-476f-8db9-f4b630f30dd6",
   "metadata": {},
   "outputs": [
    {
     "data": {
      "text/plain": [
       "True"
      ]
     },
     "execution_count": 34,
     "metadata": {},
     "output_type": "execute_result"
    }
   ],
   "source": [
    "bool(1)"
   ]
  },
  {
   "cell_type": "code",
   "execution_count": 35,
   "id": "a4fd0515-a440-4566-b763-a16496b40b94",
   "metadata": {},
   "outputs": [
    {
     "data": {
      "text/plain": [
       "False"
      ]
     },
     "execution_count": 35,
     "metadata": {},
     "output_type": "execute_result"
    }
   ],
   "source": [
    "bool([])"
   ]
  },
  {
   "cell_type": "code",
   "execution_count": 36,
   "id": "516bcd61-7fa9-45f5-92d5-62dbe321f282",
   "metadata": {},
   "outputs": [
    {
     "data": {
      "text/plain": [
       "True"
      ]
     },
     "execution_count": 36,
     "metadata": {},
     "output_type": "execute_result"
    }
   ],
   "source": [
    "bool([1])"
   ]
  },
  {
   "cell_type": "markdown",
   "id": "bf4fb4cb-93ef-4633-ac67-7aa5abc7621a",
   "metadata": {},
   "source": [
    "### 1.3 None"
   ]
  },
  {
   "cell_type": "code",
   "execution_count": 37,
   "id": "96b85295-c075-46a7-abb2-09a18658aafa",
   "metadata": {},
   "outputs": [],
   "source": [
    "a = None"
   ]
  },
  {
   "cell_type": "code",
   "execution_count": 38,
   "id": "2f0ae00f-98b2-4b33-98bd-918d3af04b37",
   "metadata": {},
   "outputs": [
    {
     "data": {
      "text/plain": [
       "NoneType"
      ]
     },
     "execution_count": 38,
     "metadata": {},
     "output_type": "execute_result"
    }
   ],
   "source": [
    "type(a)"
   ]
  },
  {
   "cell_type": "markdown",
   "id": "e9b3e91e-0b6e-42ba-9b7d-b840a12db81c",
   "metadata": {},
   "source": [
    "### 1.4 String\n",
    "\n",
    "- 문자열은 `'` , `\"` 를 이용하여 표현"
   ]
  },
  {
   "cell_type": "code",
   "execution_count": null,
   "id": "249d2a48-1721-45c9-9839-6923028726ee",
   "metadata": {},
   "outputs": [],
   "source": []
  },
  {
   "cell_type": "code",
   "execution_count": 39,
   "id": "9e209c75-3862-46b2-9484-3e89c71ba12d",
   "metadata": {},
   "outputs": [],
   "source": [
    "a = 'hello'"
   ]
  },
  {
   "cell_type": "code",
   "execution_count": 40,
   "id": "690f0210-73f1-483a-a1db-cba42dc56d15",
   "metadata": {},
   "outputs": [
    {
     "data": {
      "text/plain": [
       "str"
      ]
     },
     "execution_count": 40,
     "metadata": {},
     "output_type": "execute_result"
    }
   ],
   "source": [
    "type(a)"
   ]
  },
  {
   "cell_type": "code",
   "execution_count": 43,
   "id": "a992bd00-0632-462a-9e98-ac1baa0f9807",
   "metadata": {},
   "outputs": [
    {
     "name": "stdin",
     "output_type": "stream",
     "text": [
      " 123\n"
     ]
    },
    {
     "name": "stdout",
     "output_type": "stream",
     "text": [
      "123\n",
      "<class 'str'>\n"
     ]
    }
   ],
   "source": [
    "age = input()\n",
    "print(age)\n",
    "print(type(age))"
   ]
  },
  {
   "cell_type": "markdown",
   "id": "4d324eb2-51c2-40af-bbb2-bd648e5ea933",
   "metadata": {},
   "source": [
    "- input으로 받는 것들은 모두 문자로 저장"
   ]
  },
  {
   "cell_type": "code",
   "execution_count": 45,
   "id": "1513b607-4a04-4d4c-ac74-6a7c3fa7d690",
   "metadata": {},
   "outputs": [
    {
     "ename": "SyntaxError",
     "evalue": "invalid syntax. Perhaps you forgot a comma? (950898810.py, line 1)",
     "output_type": "error",
     "traceback": [
      "\u001b[1;36m  Cell \u001b[1;32mIn[45], line 1\u001b[1;36m\u001b[0m\n\u001b[1;33m    print('안녕하세요? '오창희'입니다.')\u001b[0m\n\u001b[1;37m          ^\u001b[0m\n\u001b[1;31mSyntaxError\u001b[0m\u001b[1;31m:\u001b[0m invalid syntax. Perhaps you forgot a comma?\n"
     ]
    }
   ],
   "source": [
    "print('안녕하세요? '오창희'입니다.')"
   ]
  },
  {
   "cell_type": "code",
   "execution_count": null,
   "id": "0e207839-3409-4800-a068-7524be597797",
   "metadata": {},
   "outputs": [],
   "source": []
  },
  {
   "cell_type": "code",
   "execution_count": 46,
   "id": "ae19594d-8668-49b7-9868-21c478c9167d",
   "metadata": {},
   "outputs": [
    {
     "name": "stdout",
     "output_type": "stream",
     "text": [
      "안녕하세요? \"오창희\"입니다.\n"
     ]
    }
   ],
   "source": [
    "print('안녕하세요? \"오창희\"입니다.')"
   ]
  },
  {
   "cell_type": "code",
   "execution_count": 47,
   "id": "bde5dfb6-ca62-43ab-908e-5df85dedb072",
   "metadata": {},
   "outputs": [
    {
     "name": "stdout",
     "output_type": "stream",
     "text": [
      "안녕하세요? '오창희'입니다.\n"
     ]
    }
   ],
   "source": [
    "print('안녕하세요? \\'오창희\\'입니다.')"
   ]
  },
  {
   "cell_type": "code",
   "execution_count": 51,
   "id": "009af967-4683-4cd7-bc03-2d2b4ecc7ecf",
   "metadata": {},
   "outputs": [],
   "source": [
    "a = '''\n",
    "여기는 문자열입니다.\n",
    "엔터를 쳐서 여러줄을 작성할 수 있습니다.\n",
    "'''"
   ]
  },
  {
   "cell_type": "code",
   "execution_count": 52,
   "id": "03ff1681-9f5c-44b7-98b3-a9024e4138f4",
   "metadata": {},
   "outputs": [
    {
     "name": "stdout",
     "output_type": "stream",
     "text": [
      "\n",
      "여기는 문자열입니다.\n",
      "엔터를 쳐서 여러줄을 작성할 수 있습니다.\n",
      "\n"
     ]
    }
   ],
   "source": [
    "print(a)"
   ]
  },
  {
   "cell_type": "code",
   "execution_count": 53,
   "id": "9e3ac98c-7023-426f-802a-30c2cd79a3fb",
   "metadata": {},
   "outputs": [
    {
     "name": "stdout",
     "output_type": "stream",
     "text": [
      "엔터를 입력해봐요 \n",
      "다음줄입니다. \t들여쓰기도 가능합니다\n"
     ]
    }
   ],
   "source": [
    "print('엔터를 입력해봐요 \\n다음줄입니다. \\t들여쓰기도 가능합니다')"
   ]
  },
  {
   "cell_type": "code",
   "execution_count": 55,
   "id": "c1b5cc78-d74f-4cf5-88de-01b0878e7474",
   "metadata": {},
   "outputs": [
    {
     "name": "stdout",
     "output_type": "stream",
     "text": [
      "하나 둘 셋!"
     ]
    }
   ],
   "source": [
    "print('하나', '둘', '셋' , end='!')"
   ]
  },
  {
   "cell_type": "markdown",
   "id": "e0e304f8-4885-4f09-9eca-d5d19e333f4d",
   "metadata": {},
   "source": [
    "- end = 마지막에 느낌표를 붙여줘라"
   ]
  },
  {
   "cell_type": "code",
   "execution_count": 56,
   "id": "be2fe73b-c87f-47f2-b59c-aa3f392a7aeb",
   "metadata": {},
   "outputs": [
    {
     "name": "stdout",
     "output_type": "stream",
     "text": [
      "하나!둘!셋\n"
     ]
    }
   ],
   "source": [
    "print('하나', '둘', '셋' , sep='!')"
   ]
  },
  {
   "cell_type": "markdown",
   "id": "61605c46-f36f-47d3-9a67-18da656b0632",
   "metadata": {},
   "source": [
    " - sep = sep되는 부분에 해당 문자열을 넣어줘라"
   ]
  },
  {
   "cell_type": "markdown",
   "id": "e3e38b93-df42-4c85-8d57-69038aa6a8d6",
   "metadata": {},
   "source": [
    "#### string interpolation\n",
    "\n",
    "1. %-formatting\n",
    "2. str.format()\n",
    "3. f-string"
   ]
  },
  {
   "cell_type": "code",
   "execution_count": 57,
   "id": "3224d186-e32f-4905-8c3d-cff3e0f307ed",
   "metadata": {},
   "outputs": [],
   "source": [
    "age = 20"
   ]
  },
  {
   "cell_type": "code",
   "execution_count": 58,
   "id": "5ac750ae-8c73-4e4a-97c2-75e4f281b187",
   "metadata": {},
   "outputs": [
    {
     "name": "stdout",
     "output_type": "stream",
     "text": [
      "홍길동은 20 살입니다.\n"
     ]
    }
   ],
   "source": [
    "print('홍길동은 %s 살입니다.' % age)"
   ]
  },
  {
   "cell_type": "code",
   "execution_count": 59,
   "id": "9541d84b-ba17-48a1-a80c-cb2711846db3",
   "metadata": {},
   "outputs": [
    {
     "name": "stdout",
     "output_type": "stream",
     "text": [
      "홍길동은 20살입니다.\n"
     ]
    }
   ],
   "source": [
    "print('홍길동은 {}살입니다.' .format(age))"
   ]
  },
  {
   "cell_type": "code",
   "execution_count": 60,
   "id": "c058812d-3946-400d-8bc1-d7aebdd940de",
   "metadata": {},
   "outputs": [
    {
     "name": "stdout",
     "output_type": "stream",
     "text": [
      "홍길동은 20살입니다.\n"
     ]
    }
   ],
   "source": [
    "print(f'홍길동은 {age}살입니다.')"
   ]
  },
  {
   "cell_type": "markdown",
   "id": "7d090157-9c30-4a27-90ed-c064102f79fa",
   "metadata": {},
   "source": [
    "- 3번 방법(f-string)을 제일 많이 이용"
   ]
  },
  {
   "cell_type": "markdown",
   "id": "43994c77-7274-49f2-a672-772addc1894c",
   "metadata": {},
   "source": [
    "## 2. 연산자\n",
    "\n",
    "### 2.1 산술연산자"
   ]
  },
  {
   "cell_type": "code",
   "execution_count": 69,
   "id": "53d70b66-b555-4535-bd5e-0365c1d2c57d",
   "metadata": {},
   "outputs": [],
   "source": [
    "a = 2\n",
    "b = 3"
   ]
  },
  {
   "cell_type": "code",
   "execution_count": 70,
   "id": "83c4a2ab-d908-4c73-9332-03199ad04701",
   "metadata": {},
   "outputs": [
    {
     "name": "stdout",
     "output_type": "stream",
     "text": [
      "5\n",
      "-1\n",
      "6\n",
      "0.6666666666666666\n",
      "8\n"
     ]
    }
   ],
   "source": [
    "print(a + b)\n",
    "print(a - b)\n",
    "print(a * b)\n",
    "print(a / b)\n",
    "print(a ** b)"
   ]
  },
  {
   "cell_type": "code",
   "execution_count": 72,
   "id": "000ae62c-29a5-48f1-9ec7-ca51275c4876",
   "metadata": {},
   "outputs": [
    {
     "name": "stdout",
     "output_type": "stream",
     "text": [
      "0\n",
      "2\n",
      "(0, 2)\n"
     ]
    }
   ],
   "source": [
    "# a를 b로 나눈 몫\n",
    "print(a // b)\n",
    "# a를 b로 나누고 나머지 출력\n",
    "print(a % b)\n",
    "# a를 b로 나눈 몫, 나머지 출력\n",
    "print(divmod(a, b))"
   ]
  },
  {
   "cell_type": "markdown",
   "id": "e9da9360-3564-4e1d-b6c1-ad7d0131a03d",
   "metadata": {},
   "source": [
    "### 2. 2 비교연산자"
   ]
  },
  {
   "cell_type": "code",
   "execution_count": 73,
   "id": "828f1436-c6eb-4c01-9ae7-54401bd96dcb",
   "metadata": {},
   "outputs": [],
   "source": [
    "a = 5\n",
    "b = 10"
   ]
  },
  {
   "cell_type": "code",
   "execution_count": 74,
   "id": "4024b06e-c094-455d-8222-b82677b1146b",
   "metadata": {},
   "outputs": [
    {
     "name": "stdout",
     "output_type": "stream",
     "text": [
      "False\n",
      "True\n",
      "False\n",
      "True\n"
     ]
    }
   ],
   "source": [
    "print(a > b)\n",
    "print(a < b)\n",
    "print(a >= b)\n",
    "print(a <= b)"
   ]
  },
  {
   "cell_type": "code",
   "execution_count": 76,
   "id": "da688f42-5235-4ce4-8f24-c2f43175bce3",
   "metadata": {},
   "outputs": [
    {
     "name": "stdout",
     "output_type": "stream",
     "text": [
      "False\n",
      "True\n"
     ]
    }
   ],
   "source": [
    "print(a == b)\n",
    "print(a != b)"
   ]
  },
  {
   "cell_type": "code",
   "execution_count": 77,
   "id": "a9e90428-e1ba-4077-8621-d36e304f08f2",
   "metadata": {},
   "outputs": [
    {
     "name": "stdout",
     "output_type": "stream",
     "text": [
      "True\n",
      "False\n"
     ]
    }
   ],
   "source": [
    "print('hi' == 'hi')\n",
    "print('HI' == 'hi')"
   ]
  },
  {
   "cell_type": "markdown",
   "id": "f9138fa4-98da-4326-b941-735a15d0f0de",
   "metadata": {},
   "source": [
    "### 2. 3 논리연산자\n",
    "\n",
    "- and : 양쪽 모두 True일 때, True를 반환\n",
    "- -or : 양쪽 모두 False일 때, False를 반환\n",
    "- not : 값을 반대로 전환"
   ]
  },
  {
   "cell_type": "code",
   "execution_count": 79,
   "id": "21667b2d-a648-4201-a07c-dea8d2938a25",
   "metadata": {},
   "outputs": [
    {
     "name": "stdout",
     "output_type": "stream",
     "text": [
      "True\n",
      "False\n",
      "False\n",
      "False\n"
     ]
    }
   ],
   "source": [
    "print(True and True)\n",
    "print(True and False)\n",
    "print(False and True)\n",
    "print(False and False)"
   ]
  },
  {
   "cell_type": "code",
   "execution_count": 80,
   "id": "2fd4cdd3-95a5-47ea-a586-e1cfbf5d0bef",
   "metadata": {},
   "outputs": [
    {
     "name": "stdout",
     "output_type": "stream",
     "text": [
      "True\n",
      "True\n",
      "True\n",
      "False\n"
     ]
    }
   ],
   "source": [
    "print(True or True)\n",
    "print(True or False)\n",
    "print(False or True)\n",
    "print(False or False)"
   ]
  },
  {
   "cell_type": "code",
   "execution_count": 81,
   "id": "6b1f3159-7a09-4341-882e-5a6b53711e16",
   "metadata": {},
   "outputs": [
    {
     "name": "stdout",
     "output_type": "stream",
     "text": [
      "True\n",
      "False\n"
     ]
    }
   ],
   "source": [
    "print(True)\n",
    "print(not True)"
   ]
  },
  {
   "cell_type": "code",
   "execution_count": 82,
   "id": "db00d43f-ace5-4447-b3ba-4761942a029c",
   "metadata": {},
   "outputs": [
    {
     "name": "stdout",
     "output_type": "stream",
     "text": [
      "5\n",
      "0\n",
      "0\n",
      "0\n"
     ]
    }
   ],
   "source": [
    "# 단축평가(and)\n",
    "print(3 and 5)\n",
    "print(3 and 0)\n",
    "print(0 and 5)\n",
    "print(0 and 0)"
   ]
  },
  {
   "cell_type": "code",
   "execution_count": 83,
   "id": "ab5c6b08-1cfe-4a22-873b-f7153b750c72",
   "metadata": {},
   "outputs": [
    {
     "name": "stdout",
     "output_type": "stream",
     "text": [
      "3\n",
      "3\n",
      "5\n",
      "0\n"
     ]
    }
   ],
   "source": [
    "# 단축평가(or)\n",
    "print(3 or 5)\n",
    "print(3 or 0)\n",
    "print(0 or 5)\n",
    "print(0 or 0)"
   ]
  },
  {
   "cell_type": "markdown",
   "id": "bb6f4e37-aac1-4432-a7d4-c907c39fe2d2",
   "metadata": {},
   "source": [
    "### 2. 3 복합연산자"
   ]
  },
  {
   "cell_type": "code",
   "execution_count": 97,
   "id": "02907962-4902-4989-bfa4-224738f9dac5",
   "metadata": {},
   "outputs": [],
   "source": [
    "a = 1\n",
    "b = 2"
   ]
  },
  {
   "cell_type": "code",
   "execution_count": 85,
   "id": "e6d91844-f452-4c8d-87b7-3c794e2d6589",
   "metadata": {},
   "outputs": [],
   "source": [
    "a = a + b\n",
    "a = a - b\n",
    "a = a / b\n",
    "a = a // b\n",
    "a = a % b\n",
    "a = a ** b"
   ]
  },
  {
   "cell_type": "code",
   "execution_count": 100,
   "id": "d3fd2caa-37c7-4be9-be80-e6d471b94fbb",
   "metadata": {},
   "outputs": [],
   "source": [
    "a += b\n",
    "a -= b\n",
    "a *= b\n",
    "a /= b\n",
    "a //= b\n",
    "a %= b\n",
    "a **= b"
   ]
  },
  {
   "cell_type": "markdown",
   "id": "b7628fef-4e84-41c5-9aff-008247f8f067",
   "metadata": {},
   "source": [
    "### 2.4 기타연산자"
   ]
  },
  {
   "cell_type": "code",
   "execution_count": 101,
   "id": "b7345950-604a-41ff-9570-aeb625de1ea5",
   "metadata": {},
   "outputs": [],
   "source": [
    "a = 'hi'\n",
    "b = 'hello'"
   ]
  },
  {
   "cell_type": "code",
   "execution_count": 94,
   "id": "4af7dd6e-9abd-49c6-b000-a1769a1848a8",
   "metadata": {},
   "outputs": [
    {
     "data": {
      "text/plain": [
       "'hihello'"
      ]
     },
     "execution_count": 94,
     "metadata": {},
     "output_type": "execute_result"
    }
   ],
   "source": [
    "# concatenation(str)\n",
    "a + b"
   ]
  },
  {
   "cell_type": "code",
   "execution_count": 102,
   "id": "f1d91aba-1d31-4b41-860f-7c6bac70587b",
   "metadata": {},
   "outputs": [],
   "source": [
    "# concatenation(list)\n",
    "a = [1, 2, 3]\n",
    "b = [4, 5, 6]"
   ]
  },
  {
   "cell_type": "code",
   "execution_count": 103,
   "id": "11ce9b3a-1689-4fdf-80d9-566b11197e33",
   "metadata": {},
   "outputs": [
    {
     "data": {
      "text/plain": [
       "[1, 2, 3, 4, 5, 6]"
      ]
     },
     "execution_count": 103,
     "metadata": {},
     "output_type": "execute_result"
    }
   ],
   "source": [
    "a + b"
   ]
  },
  {
   "cell_type": "code",
   "execution_count": 105,
   "id": "814cf622-9fef-440a-8b0c-3eeef0c906e6",
   "metadata": {},
   "outputs": [
    {
     "name": "stdout",
     "output_type": "stream",
     "text": [
      "True\n",
      "False\n"
     ]
    }
   ],
   "source": [
    "# concatenation(in)\n",
    "print('a' in 'apple')\n",
    "print('z' in 'apple')"
   ]
  },
  {
   "cell_type": "code",
   "execution_count": 107,
   "id": "eb716442-2e72-4952-9e32-6ad12ec9d49f",
   "metadata": {},
   "outputs": [
    {
     "name": "stdout",
     "output_type": "stream",
     "text": [
      "True\n",
      "False\n"
     ]
    }
   ],
   "source": [
    "# concatenation(in)\n",
    "print(1 in [1, 2, 3])\n",
    "print(10 in [1, 2, 3])"
   ]
  },
  {
   "cell_type": "code",
   "execution_count": 110,
   "id": "981cf343-0c7e-4bf5-bb44-b08df424dc35",
   "metadata": {},
   "outputs": [
    {
     "name": "stdout",
     "output_type": "stream",
     "text": [
      "True\n",
      "140729580380968\n",
      "140729580380968\n"
     ]
    }
   ],
   "source": [
    "# identity(is)\n",
    "a = 1\n",
    "b = 1\n",
    "print(a is b)\n",
    "print(id(a))\n",
    "print(id(b))"
   ]
  },
  {
   "cell_type": "code",
   "execution_count": null,
   "id": "1fee0519-7f25-4ba8-8726-de5ad63cb280",
   "metadata": {},
   "outputs": [],
   "source": []
  },
  {
   "cell_type": "code",
   "execution_count": 111,
   "id": "11d7374d-756a-4274-bd90-96cb1b2322b2",
   "metadata": {},
   "outputs": [
    {
     "name": "stdout",
     "output_type": "stream",
     "text": [
      "False\n",
      "2032137697776\n",
      "2032137697264\n"
     ]
    }
   ],
   "source": [
    "a = 123123\n",
    "b = 123123\n",
    "print(a is b)\n",
    "print(id(a))\n",
    "print(id(b))"
   ]
  },
  {
   "cell_type": "markdown",
   "id": "6780a15f-df69-46b8-a520-4dc781ec96f7",
   "metadata": {},
   "source": [
    "### 우선순위\n",
    "\n",
    "0. ()를 통해 그룹\n",
    "1. **\n",
    "2. 산술연산자(*, /)\n",
    "3. 산술연산자(+, -)\n",
    "4. 비교연산자, in, is\n",
    "5. not\n",
    "6. and\n",
    "7. or"
   ]
  },
  {
   "cell_type": "code",
   "execution_count": 114,
   "id": "405a9cb4-d3d8-4bbc-bcb3-33afba540c9b",
   "metadata": {},
   "outputs": [
    {
     "name": "stdout",
     "output_type": "stream",
     "text": [
      "-81\n",
      "81\n"
     ]
    }
   ],
   "source": [
    "print(-3 ** 4)\n",
    "print((-3) ** 4)"
   ]
  },
  {
   "cell_type": "markdown",
   "id": "f1e80554-2af0-43cb-a80c-37ec1723490e",
   "metadata": {},
   "source": [
    "# 3. 형변환\n",
    "### 3.1 암시적 형변환"
   ]
  },
  {
   "cell_type": "code",
   "execution_count": 118,
   "id": "e1551c28-7b7a-4a2d-86bc-0fa758c597cd",
   "metadata": {},
   "outputs": [],
   "source": [
    "a = True\n",
    "b = False\n",
    "c = 1"
   ]
  },
  {
   "cell_type": "code",
   "execution_count": 119,
   "id": "5c233685-7036-407c-b938-b239ea2e019a",
   "metadata": {},
   "outputs": [
    {
     "name": "stdout",
     "output_type": "stream",
     "text": [
      "2\n",
      "1\n"
     ]
    }
   ],
   "source": [
    "print(a + c)\n",
    "print(b + c)"
   ]
  },
  {
   "cell_type": "code",
   "execution_count": 122,
   "id": "178d81ce-6bb2-4566-aa04-82d81af84805",
   "metadata": {},
   "outputs": [],
   "source": [
    "int_num = 3\n",
    "float_num = 3.3\n",
    "complex_num = 1 + 3j"
   ]
  },
  {
   "cell_type": "code",
   "execution_count": 124,
   "id": "a595ee3d-5c05-4759-b7b9-629b03ec8c80",
   "metadata": {},
   "outputs": [
    {
     "name": "stdout",
     "output_type": "stream",
     "text": [
      "6.3\n",
      "(4+3j)\n"
     ]
    }
   ],
   "source": [
    "print(int_num + float_num)\n",
    "print(int_num + complex_num)"
   ]
  },
  {
   "cell_type": "markdown",
   "id": "0258ee64-88d9-4951-9b08-83b201a1f020",
   "metadata": {},
   "source": [
    "### 3.2 명시적 형변환\n",
    "\n",
    "- int() : string, float를 int로 변환\n",
    "- float() : string, int를 float로 변환\n",
    "- str() : int, float 등을 string으로 변환\n",
    "- bool() : int, list 등을 boolean으로 변환"
   ]
  },
  {
   "cell_type": "code",
   "execution_count": 125,
   "id": "43d4689a-ce96-4f49-949c-8d224fba4a39",
   "metadata": {},
   "outputs": [],
   "source": [
    "a = 1\n",
    "b = '번'"
   ]
  },
  {
   "cell_type": "code",
   "execution_count": 126,
   "id": "f03bb156-c49b-4218-8d89-57d803d86edd",
   "metadata": {},
   "outputs": [
    {
     "ename": "TypeError",
     "evalue": "unsupported operand type(s) for +: 'int' and 'str'",
     "output_type": "error",
     "traceback": [
      "\u001b[1;31m---------------------------------------------------------------------------\u001b[0m",
      "\u001b[1;31mTypeError\u001b[0m                                 Traceback (most recent call last)",
      "Cell \u001b[1;32mIn[126], line 1\u001b[0m\n\u001b[1;32m----> 1\u001b[0m \u001b[38;5;28mprint\u001b[39m(\u001b[43ma\u001b[49m\u001b[43m \u001b[49m\u001b[38;5;241;43m+\u001b[39;49m\u001b[43m \u001b[49m\u001b[43mb\u001b[49m)\n",
      "\u001b[1;31mTypeError\u001b[0m: unsupported operand type(s) for +: 'int' and 'str'"
     ]
    }
   ],
   "source": [
    "print(a + b)"
   ]
  },
  {
   "cell_type": "code",
   "execution_count": 127,
   "id": "601b2ac7-29cb-4111-8149-9ba0b1ab3294",
   "metadata": {},
   "outputs": [
    {
     "name": "stdout",
     "output_type": "stream",
     "text": [
      "1번\n"
     ]
    }
   ],
   "source": [
    "print(str(a) + b)"
   ]
  },
  {
   "cell_type": "code",
   "execution_count": 128,
   "id": "acf952bf-9543-47af-8fbd-c672c719d80f",
   "metadata": {},
   "outputs": [],
   "source": [
    "a = '3'"
   ]
  },
  {
   "cell_type": "code",
   "execution_count": 130,
   "id": "f26904c1-e543-49d4-adcd-5a33f2d123b3",
   "metadata": {},
   "outputs": [
    {
     "data": {
      "text/plain": [
       "int"
      ]
     },
     "execution_count": 130,
     "metadata": {},
     "output_type": "execute_result"
    }
   ],
   "source": [
    "type(int(a))"
   ]
  },
  {
   "cell_type": "code",
   "execution_count": 131,
   "id": "6a108aa2-46a7-4539-9a9b-5db368740abc",
   "metadata": {},
   "outputs": [],
   "source": [
    "a = '3.3'"
   ]
  },
  {
   "cell_type": "code",
   "execution_count": 132,
   "id": "ce043654-28d0-4e19-8138-b7d2251118c0",
   "metadata": {},
   "outputs": [
    {
     "ename": "ValueError",
     "evalue": "invalid literal for int() with base 10: '3.3'",
     "output_type": "error",
     "traceback": [
      "\u001b[1;31m---------------------------------------------------------------------------\u001b[0m",
      "\u001b[1;31mValueError\u001b[0m                                Traceback (most recent call last)",
      "Cell \u001b[1;32mIn[132], line 1\u001b[0m\n\u001b[1;32m----> 1\u001b[0m \u001b[38;5;28mtype\u001b[39m(\u001b[38;5;28;43mint\u001b[39;49m\u001b[43m(\u001b[49m\u001b[43ma\u001b[49m\u001b[43m)\u001b[49m)\n",
      "\u001b[1;31mValueError\u001b[0m: invalid literal for int() with base 10: '3.3'"
     ]
    }
   ],
   "source": [
    "type(int(a))"
   ]
  },
  {
   "cell_type": "code",
   "execution_count": 133,
   "id": "6df778ae-fc4a-4987-ae8e-02ed25425ee7",
   "metadata": {},
   "outputs": [
    {
     "data": {
      "text/plain": [
       "float"
      ]
     },
     "execution_count": 133,
     "metadata": {},
     "output_type": "execute_result"
    }
   ],
   "source": [
    "type(float(a))"
   ]
  },
  {
   "cell_type": "code",
   "execution_count": 134,
   "id": "01dcea87-e722-4a51-874f-44e30d254242",
   "metadata": {},
   "outputs": [],
   "source": [
    "a = 1\n",
    "b = 0"
   ]
  },
  {
   "cell_type": "code",
   "execution_count": 135,
   "id": "10226556-9337-481c-9344-0ff6d6b185ba",
   "metadata": {},
   "outputs": [
    {
     "data": {
      "text/plain": [
       "True"
      ]
     },
     "execution_count": 135,
     "metadata": {},
     "output_type": "execute_result"
    }
   ],
   "source": [
    "bool(a)"
   ]
  },
  {
   "cell_type": "code",
   "execution_count": 136,
   "id": "cae36742-58d1-4632-a6c0-71dfbc1b39a0",
   "metadata": {},
   "outputs": [
    {
     "data": {
      "text/plain": [
       "False"
      ]
     },
     "execution_count": 136,
     "metadata": {},
     "output_type": "execute_result"
    }
   ],
   "source": [
    "bool(b)"
   ]
  },
  {
   "cell_type": "code",
   "execution_count": 139,
   "id": "c5d05157-7cad-434d-a07e-5d22d2953986",
   "metadata": {},
   "outputs": [
    {
     "name": "stdout",
     "output_type": "stream",
     "text": [
      "False\n",
      "True\n"
     ]
    }
   ],
   "source": [
    "print(bool([]))\n",
    "print(bool([1, 2, 3]))"
   ]
  },
  {
   "cell_type": "markdown",
   "id": "c23d9c81-0374-466f-b7b8-d30a8161d74c",
   "metadata": {},
   "source": [
    "## 4. 시퀀스(sequence) 자료형\n",
    "\n",
    "시퀀스는 데이터의 순서대로 나열된 자료구조. (순서대로 나열되었다는 것은 정렬된 것과 다르다.)\n",
    "\n",
    "1. 리스트\n",
    "2. 튜플\n",
    "3. 레인지\n",
    "4. 문자열"
   ]
  },
  {
   "cell_type": "markdown",
   "id": "03fcc149-4729-4653-ab70-d2c23e32b4bb",
   "metadata": {},
   "source": [
    "### 4.1 List (배열)\n",
    "\n",
    "- 선언 : 변수이름 = [value, value2, value3 ...]\n",
    "- 접근 : 변수이름[index]"
   ]
  },
  {
   "cell_type": "code",
   "execution_count": 140,
   "id": "db49034c-6b3f-492e-9b1b-c482e35210ce",
   "metadata": {},
   "outputs": [
    {
     "name": "stdout",
     "output_type": "stream",
     "text": [
      "[]\n",
      "<class 'list'>\n"
     ]
    }
   ],
   "source": [
    "l = []\n",
    "print(l)\n",
    "print(type(l))"
   ]
  },
  {
   "cell_type": "code",
   "execution_count": 146,
   "id": "c5761518-f66b-4ddc-bd78-719a21fa286a",
   "metadata": {},
   "outputs": [
    {
     "name": "stdout",
     "output_type": "stream",
     "text": [
      "['서울', '대구', '대전']\n",
      "대구\n",
      "['서울', '부산', '대전']\n"
     ]
    }
   ],
   "source": [
    "location = ['서울', '대구', '대전']\n",
    "print(location)\n",
    "print(location[1])\n",
    "location[1] = '부산'\n",
    "print(location)"
   ]
  },
  {
   "cell_type": "markdown",
   "id": "1ac09a9f-180a-45aa-99cc-a0ee85543466",
   "metadata": {},
   "source": [
    "### 4.2 Tuple\n",
    "\n",
    "- 선언 : 변수이름 = (value1, value2, value3...)\n",
    "- 접근 : 변수이름[index]\n",
    "- 리스트와 유사하지만 수정이 불가능(immutable)하다."
   ]
  },
  {
   "cell_type": "code",
   "execution_count": 147,
   "id": "19fd25fe-7437-4849-9748-ec8439f41eab",
   "metadata": {},
   "outputs": [
    {
     "name": "stdout",
     "output_type": "stream",
     "text": [
      "(1, 2, 3)\n",
      "<class 'tuple'>\n",
      "3\n"
     ]
    }
   ],
   "source": [
    "t = (1, 2, 3)\n",
    "print(t)\n",
    "print(type(t))\n",
    "print(t[2])"
   ]
  },
  {
   "cell_type": "code",
   "execution_count": 148,
   "id": "296443a8-4ae7-4a3c-a1a7-f3377551a997",
   "metadata": {},
   "outputs": [
    {
     "ename": "TypeError",
     "evalue": "'tuple' object does not support item assignment",
     "output_type": "error",
     "traceback": [
      "\u001b[1;31m---------------------------------------------------------------------------\u001b[0m",
      "\u001b[1;31mTypeError\u001b[0m                                 Traceback (most recent call last)",
      "Cell \u001b[1;32mIn[148], line 1\u001b[0m\n\u001b[1;32m----> 1\u001b[0m \u001b[43mt\u001b[49m\u001b[43m[\u001b[49m\u001b[38;5;241;43m2\u001b[39;49m\u001b[43m]\u001b[49m \u001b[38;5;241m=\u001b[39m \u001b[38;5;241m5\u001b[39m\n",
      "\u001b[1;31mTypeError\u001b[0m: 'tuple' object does not support item assignment"
     ]
    }
   ],
   "source": [
    "t[2] = 5"
   ]
  },
  {
   "cell_type": "code",
   "execution_count": 151,
   "id": "8242e0e5-a8b7-4e92-abc7-129ffe95114e",
   "metadata": {},
   "outputs": [
    {
     "name": "stdout",
     "output_type": "stream",
     "text": [
      "1 2\n",
      "2 1\n"
     ]
    }
   ],
   "source": [
    "x, y = 1, 2\n",
    "print(x, y)\n",
    "\n",
    "x, y = y, x\n",
    "print(x, y)"
   ]
  },
  {
   "cell_type": "markdown",
   "id": "d9d0ae2d-3cf8-45b8-9c58-d3b506d4a9eb",
   "metadata": {},
   "source": [
    "### 4.3 range\n",
    "\n",
    "- range(n) : 0부터 n-1까지 범위\n",
    "- range(n, m) : n부터 m-1까지 범위\n",
    "- range(n, m ,s) : n부터 m-1까지 +s만큼 증가하는 범위"
   ]
  },
  {
   "cell_type": "code",
   "execution_count": 152,
   "id": "35bf34fd-3046-4d4f-b209-2dbfbd411aea",
   "metadata": {},
   "outputs": [
    {
     "name": "stdout",
     "output_type": "stream",
     "text": [
      "<class 'range'>\n"
     ]
    }
   ],
   "source": [
    "a = range(1)\n",
    "print(type(a))"
   ]
  },
  {
   "cell_type": "code",
   "execution_count": 154,
   "id": "b4e8657a-484a-400f-9a24-bfb22e967040",
   "metadata": {},
   "outputs": [
    {
     "name": "stdout",
     "output_type": "stream",
     "text": [
      "range(0, 10)\n",
      "[0, 1, 2, 3, 4, 5, 6, 7, 8, 9]\n"
     ]
    }
   ],
   "source": [
    "a = range(10)\n",
    "print(a)\n",
    "print(list(a))"
   ]
  },
  {
   "cell_type": "code",
   "execution_count": 155,
   "id": "7d582c4c-2b73-458e-b05e-5094e545636a",
   "metadata": {},
   "outputs": [
    {
     "name": "stdout",
     "output_type": "stream",
     "text": [
      "[5, 6, 7, 8, 9, 10, 11, 12, 13, 14]\n"
     ]
    }
   ],
   "source": [
    "a = range(5, 15)\n",
    "print(list(a))"
   ]
  },
  {
   "cell_type": "code",
   "execution_count": 157,
   "id": "e0717303-6b18-4eea-9301-8db06f86a48c",
   "metadata": {},
   "outputs": [
    {
     "name": "stdout",
     "output_type": "stream",
     "text": [
      "[1, 3, 5, 7, 9]\n"
     ]
    }
   ],
   "source": [
    "a = range(1, 10, 2)\n",
    "print(list(a))"
   ]
  },
  {
   "cell_type": "code",
   "execution_count": 158,
   "id": "a5133354-e027-4d7f-87cc-2da450da25b5",
   "metadata": {},
   "outputs": [
    {
     "name": "stdout",
     "output_type": "stream",
     "text": [
      "[-1, -2, -3, -4, -5, -6, -7, -8, -9]\n"
     ]
    }
   ],
   "source": [
    "a = range(-1, -10, -1)\n",
    "print(list(a))"
   ]
  },
  {
   "cell_type": "markdown",
   "id": "901de30c-c9de-483a-a243-7ffb3edbeae7",
   "metadata": {},
   "source": [
    "### 4.4 String\n",
    "기본 데이터 구조 참고"
   ]
  },
  {
   "cell_type": "markdown",
   "id": "e675e87c-f5ac-4271-9814-d7c1bfbfb470",
   "metadata": {},
   "source": [
    "### 4.5 시퀀스에서 활용 가능한 연산/함수"
   ]
  },
  {
   "cell_type": "code",
   "execution_count": 166,
   "id": "28aabae4-d7f7-4da8-813c-6614252fb5f6",
   "metadata": {},
   "outputs": [],
   "source": [
    "my_list = [1, 2, 3, 4, 5]\n",
    "my_tuple = (1, 2, 3, 4, 5)\n",
    "my_range = range(1, 100)\n",
    "my_string = '12345'"
   ]
  },
  {
   "cell_type": "code",
   "execution_count": 164,
   "id": "f2051123-d4ff-4314-be47-bbf80f7c89ac",
   "metadata": {},
   "outputs": [
    {
     "name": "stdout",
     "output_type": "stream",
     "text": [
      "2\n",
      "2\n",
      "2\n",
      "2\n"
     ]
    }
   ],
   "source": [
    "# indexing\n",
    "print(my_list[1])\n",
    "print(my_tuple[1])\n",
    "print(my_range[1])\n",
    "print(my_string[1])"
   ]
  },
  {
   "cell_type": "code",
   "execution_count": 162,
   "id": "9f3517a1-5397-4d51-bc41-9323fb8d7855",
   "metadata": {},
   "outputs": [
    {
     "name": "stdout",
     "output_type": "stream",
     "text": [
      "[2, 3]\n",
      "(2, 3)\n",
      "range(2, 4)\n",
      "23\n"
     ]
    }
   ],
   "source": [
    "# slicing\n",
    "print(my_list[1:3])\n",
    "print(my_tuple[1:3])\n",
    "print(my_range[1:3])\n",
    "print(my_string[1:3])"
   ]
  },
  {
   "cell_type": "code",
   "execution_count": 167,
   "id": "f8d637e5-42a9-4e7f-8d83-e7e06268c5ab",
   "metadata": {},
   "outputs": [
    {
     "data": {
      "text/plain": [
       "[3, 5]"
      ]
     },
     "execution_count": 167,
     "metadata": {},
     "output_type": "execute_result"
    }
   ],
   "source": [
    "# slicing(k간격으로)\n",
    "list(my_range[2:6:2])"
   ]
  },
  {
   "cell_type": "code",
   "execution_count": 168,
   "id": "be8f6c56-29c9-493a-be28-1362737b5d78",
   "metadata": {},
   "outputs": [
    {
     "name": "stdout",
     "output_type": "stream",
     "text": [
      "True\n",
      "True\n",
      "True\n",
      "True\n"
     ]
    }
   ],
   "source": [
    "# in\n",
    "print(1 in my_list)\n",
    "print(1 in my_tuple)\n",
    "print(1 in my_range)\n",
    "print('1' in my_string)"
   ]
  },
  {
   "cell_type": "code",
   "execution_count": 169,
   "id": "bfab4d6f-660e-4d30-91f3-3d65e7323549",
   "metadata": {},
   "outputs": [
    {
     "name": "stdout",
     "output_type": "stream",
     "text": [
      "False\n",
      "False\n",
      "False\n",
      "False\n"
     ]
    }
   ],
   "source": [
    "print(1 not in my_list)\n",
    "print(1 not in my_tuple)\n",
    "print(1 not in my_range)\n",
    "print('1' not in my_string)"
   ]
  },
  {
   "cell_type": "code",
   "execution_count": 173,
   "id": "f9fd8351-023b-439c-ae38-f31fe55e8076",
   "metadata": {},
   "outputs": [
    {
     "name": "stdout",
     "output_type": "stream",
     "text": [
      "[1, 2, 3, 4, 5, 1, 2, 3]\n"
     ]
    }
   ],
   "source": [
    "# concatenation\n",
    "print(my_list + [1, 2, 3]) "
   ]
  },
  {
   "cell_type": "code",
   "execution_count": 174,
   "id": "cebb67cf-9de8-405b-b4dd-2e7e512639ae",
   "metadata": {},
   "outputs": [
    {
     "name": "stdout",
     "output_type": "stream",
     "text": [
      "[0, 0, 0, 0, 0, 0, 0, 0, 0, 0]\n",
      "[[0, 0, 0, 0, 0, 0, 0, 0, 0, 0], [0, 0, 0, 0, 0, 0, 0, 0, 0, 0], [0, 0, 0, 0, 0, 0, 0, 0, 0, 0], [0, 0, 0, 0, 0, 0, 0, 0, 0, 0], [0, 0, 0, 0, 0, 0, 0, 0, 0, 0], [0, 0, 0, 0, 0, 0, 0, 0, 0, 0], [0, 0, 0, 0, 0, 0, 0, 0, 0, 0], [0, 0, 0, 0, 0, 0, 0, 0, 0, 0], [0, 0, 0, 0, 0, 0, 0, 0, 0, 0], [0, 0, 0, 0, 0, 0, 0, 0, 0, 0]]\n"
     ]
    }
   ],
   "source": [
    "# *\n",
    "print([0] * 10)\n",
    "print([[0] * 10] * 10)"
   ]
  },
  {
   "cell_type": "code",
   "execution_count": 175,
   "id": "f13d334a-eba6-4a97-aa52-646bea986f4d",
   "metadata": {},
   "outputs": [
    {
     "name": "stdout",
     "output_type": "stream",
     "text": [
      "5\n"
     ]
    }
   ],
   "source": [
    "print(len(my_list))"
   ]
  },
  {
   "cell_type": "code",
   "execution_count": 176,
   "id": "bed67e73-818f-40c6-afeb-219f0f84416e",
   "metadata": {},
   "outputs": [
    {
     "name": "stdout",
     "output_type": "stream",
     "text": [
      "1\n"
     ]
    }
   ],
   "source": [
    "print(min(my_list))"
   ]
  },
  {
   "cell_type": "code",
   "execution_count": 177,
   "id": "fae3b187-268b-4b36-8c28-8a979f5e1092",
   "metadata": {},
   "outputs": [
    {
     "name": "stdout",
     "output_type": "stream",
     "text": [
      "5\n"
     ]
    }
   ],
   "source": [
    "print(max(my_list))"
   ]
  },
  {
   "cell_type": "code",
   "execution_count": 178,
   "id": "7b813945-bc69-4983-93f3-5f3ae5337f44",
   "metadata": {},
   "outputs": [
    {
     "data": {
      "text/plain": [
       "1"
      ]
     },
     "execution_count": 178,
     "metadata": {},
     "output_type": "execute_result"
    }
   ],
   "source": [
    "my_list.count(1)"
   ]
  },
  {
   "cell_type": "markdown",
   "id": "6acf3228-c661-4aae-bcdf-38d87ed8f781",
   "metadata": {},
   "source": [
    "## 5. 시퀀스데이터가 아닌 자료구조\n",
    "\n",
    "### 5.1 Set\n",
    "\n",
    "수학에서 사용하는 집합과 동일하게 처리 (중복된 값이 없음)\n",
    "\n",
    "- 선언 : 변수이름 = {value1, value2, value3...}"
   ]
  },
  {
   "cell_type": "code",
   "execution_count": 179,
   "id": "ded4388c-1607-45c3-adee-c3b3f30787c1",
   "metadata": {},
   "outputs": [],
   "source": [
    "my_set_a = {1, 2, 3, 4, 5}\n",
    "my_set_b = {3, 4, 5, 6, 7}"
   ]
  },
  {
   "cell_type": "code",
   "execution_count": 184,
   "id": "ffe83b15-c980-4183-a5cc-35511b84d05c",
   "metadata": {},
   "outputs": [
    {
     "name": "stdout",
     "output_type": "stream",
     "text": [
      "{1, 2}\n",
      "{1, 2, 3, 4, 5, 6, 7}\n",
      "{3, 4, 5}\n"
     ]
    }
   ],
   "source": [
    "print(my_set_a - my_set_b)\n",
    "print(my_set_a | my_set_b)\n",
    "print(my_set_a & my_set_b)"
   ]
  },
  {
   "cell_type": "code",
   "execution_count": 186,
   "id": "c1eb8493-e1f3-4c6e-8d4e-02f9d44ec6fd",
   "metadata": {},
   "outputs": [
    {
     "name": "stdout",
     "output_type": "stream",
     "text": [
      "{1, 2, 3, 4, 5, 6, 7}\n",
      "[1, 2, 3, 4, 5, 6, 7]\n"
     ]
    }
   ],
   "source": [
    "my_list = [1, 1, 1, 1, 1, 1, 2, 3, 4, 5, 6, 7]\n",
    "print(set(my_list))\n",
    "print(list(set(my_list)))"
   ]
  },
  {
   "cell_type": "markdown",
   "id": "42d41dae-9131-4d81-ad0b-084bf2ad3fbf",
   "metadata": {},
   "source": [
    "### 5.2 Dictionary\n",
    "- 선언 : 변수이름 = {key1: value1, key2: value2, ...}\n",
    "- 접근 : 변수이름[key]\n",
    "\n",
    "- -dictionary는 key와 value가 쌍으로 이루어져있다.\n",
    "- key에는 immutable한 모든 것을 사용 가능 (불변값: string, integer...)\n",
    "- value에는 모든 데이터 가능(list, dictionary도 가능)"
   ]
  },
  {
   "cell_type": "code",
   "execution_count": 188,
   "id": "ece1880d-b840-4dc6-8a08-c60a16f93cc1",
   "metadata": {},
   "outputs": [
    {
     "data": {
      "text/plain": [
       "'02'"
      ]
     },
     "execution_count": 188,
     "metadata": {},
     "output_type": "execute_result"
    }
   ],
   "source": [
    "my_dict = {'서울': '02', '경기': '031'}\n",
    "my_dict['서울']"
   ]
  },
  {
   "cell_type": "code",
   "execution_count": 191,
   "id": "eb18a434-4bbb-4939-9342-b964ffbcbd0b",
   "metadata": {},
   "outputs": [],
   "source": [
    "dict_a = {\n",
    "    'name' : 'changhee',\n",
    "    'location' : 'seoul',\n",
    "    'location' : 'seoul2',\n",
    "}"
   ]
  },
  {
   "cell_type": "code",
   "execution_count": 192,
   "id": "37651782-8abf-4455-9852-1ec8887d40f7",
   "metadata": {},
   "outputs": [
    {
     "name": "stdout",
     "output_type": "stream",
     "text": [
      "{'name': 'changhee', 'location': 'seoul2'}\n"
     ]
    }
   ],
   "source": [
    "print(dict_a)"
   ]
  },
  {
   "cell_type": "code",
   "execution_count": 193,
   "id": "4e287680-c3a6-4c2f-b14e-67ca2df48c80",
   "metadata": {},
   "outputs": [
    {
     "data": {
      "text/plain": [
       "dict_keys(['name', 'location'])"
      ]
     },
     "execution_count": 193,
     "metadata": {},
     "output_type": "execute_result"
    }
   ],
   "source": [
    "dict_a.keys()"
   ]
  },
  {
   "cell_type": "code",
   "execution_count": 194,
   "id": "78553ebe-3133-4676-aece-e3b8aa54fe6e",
   "metadata": {},
   "outputs": [
    {
     "data": {
      "text/plain": [
       "dict_values(['changhee', 'seoul2'])"
      ]
     },
     "execution_count": 194,
     "metadata": {},
     "output_type": "execute_result"
    }
   ],
   "source": [
    "dict_a.values()"
   ]
  },
  {
   "cell_type": "markdown",
   "id": "0e1adfd6-3b88-46a7-918e-ede8555771be",
   "metadata": {},
   "source": [
    "# 데이터 타입\n",
    "\n",
    "1. Number\n",
    "2. Boolean\n",
    "3. String\n",
    "\n",
    "# 자료구조\n",
    "\n",
    "- 시퀀스 자료형\n",
    "1. [List] : mutable *\n",
    "2. (Tuple) : immutable\n",
    "3. range() : immutable\n",
    "4. 'String' : immutable *\n",
    "\n",
    "- 시퀀스가 아닌 자료형\n",
    "1. {Set} : mutable\n",
    "2. {Dict: ionary} : mutable *"
   ]
  },
  {
   "cell_type": "code",
   "execution_count": null,
   "id": "9f700db3-f28e-4bb9-9989-69b1a30231a1",
   "metadata": {},
   "outputs": [],
   "source": []
  }
 ],
 "metadata": {
  "kernelspec": {
   "display_name": "Python 3 (ipykernel)",
   "language": "python",
   "name": "python3"
  },
  "language_info": {
   "codemirror_mode": {
    "name": "ipython",
    "version": 3
   },
   "file_extension": ".py",
   "mimetype": "text/x-python",
   "name": "python",
   "nbconvert_exporter": "python",
   "pygments_lexer": "ipython3",
   "version": "3.11.4"
  }
 },
 "nbformat": 4,
 "nbformat_minor": 5
}
