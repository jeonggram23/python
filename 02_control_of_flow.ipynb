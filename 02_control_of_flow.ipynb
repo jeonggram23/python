{
 "cells": [
  {
   "cell_type": "markdown",
   "id": "3a2b78a0-3e92-44ef-9f63-f3e1dda1b5f1",
   "metadata": {},
   "source": [
    "# 제어문"
   ]
  },
  {
   "cell_type": "markdown",
   "id": "9056913d-ae03-4716-9dc4-7e28ca79f805",
   "metadata": {},
   "source": [
    "###조건문 (if문)\n",
    "1. `if` 문은 반드시 일정한 참/거짓을 판단 할 수 있는 `조건식`과 함께 사용한다. (`if <조건식>:`)\n",
    "   \n",
    "2-1. `<조건식>`이 참인 경우 `:` 이후의 문장을 실행한다.\n",
    "   \n",
    "2-2. `<조건식>`이 거짓인 경우 `else:` 이후의 문장을 싱행한다.\n",
    "\n",
    "구조\n",
    "if "
   ]
  },
  {
   "cell_type": "code",
   "execution_count": 2,
   "id": "8227bf41-89cd-44d6-99ee-9f2457f621bd",
   "metadata": {},
   "outputs": [
    {
     "name": "stdin",
     "output_type": "stream",
     "text": [
      " 123\n"
     ]
    },
    {
     "name": "stdout",
     "output_type": "stream",
     "text": [
      "크리스마스가 아닙니다.\n"
     ]
    }
   ],
   "source": [
    "my_string = input()\n",
    "\n",
    "if my_string == '12/25':\n",
    "    print('크리스마스입니다.')\n",
    "else:\n",
    "    print('크리스마스가 아닙니다.')"
   ]
  },
  {
   "cell_type": "code",
   "execution_count": 2,
   "id": "661274ab-58ae-45db-a61f-d45681c8a30b",
   "metadata": {},
   "outputs": [
    {
     "name": "stdin",
     "output_type": "stream",
     "text": [
      "숫자를 입력해주세요 123\n"
     ]
    },
    {
     "name": "stdout",
     "output_type": "stream",
     "text": [
      "123\n",
      "<class 'str'>\n"
     ]
    }
   ],
   "source": [
    "num = input('숫자를 입력해주세요')\n",
    "print(num)\n",
    "print(type(num))"
   ]
  },
  {
   "cell_type": "code",
   "execution_count": 12,
   "id": "c207355f-7dcb-4cc5-ad39-239a883938d6",
   "metadata": {},
   "outputs": [
    {
     "name": "stdout",
     "output_type": "stream",
     "text": [
      "홀수입니다.\n"
     ]
    }
   ],
   "source": [
    "# 조건문을 사용해서 num에 들어있는 숫자가 홀수/짝수 인지 판별\n",
    "\n",
    "if int(num) % 2 == 0:\n",
    "    print('짝수입니다.')\n",
    "else:\n",
    "    print('홀수입니다.')"
   ]
  },
  {
   "cell_type": "code",
   "execution_count": 16,
   "id": "0575c4c7-6a7e-47df-8e9a-67a44571bc1c",
   "metadata": {},
   "outputs": [
    {
     "name": "stdout",
     "output_type": "stream",
     "text": [
      "홀수입니다.\n"
     ]
    }
   ],
   "source": [
    "if int(num) % 2 == 1:\n",
    "    print('홀수입니다.')\n",
    "else:\n",
    "    print('짝수입니다.')\n"
   ]
  },
  {
   "cell_type": "code",
   "execution_count": 3,
   "id": "5d98951f-4a3e-44fe-8de1-1445437c91be",
   "metadata": {},
   "outputs": [
    {
     "name": "stdout",
     "output_type": "stream",
     "text": [
      "홀수입니다.\n"
     ]
    }
   ],
   "source": [
    "# num을 2로 나눈 나머지는 0, 1 두가지 경우가 있다.\n",
    "# if문의 조건식에 0, 1은 자동형변환이 일어나 False, True로 변환된다.\n",
    "if int(num) % 2:\n",
    "    print('홀수입니다.')\n",
    "else:\n",
    "    print('짝수입니다.')"
   ]
  },
  {
   "cell_type": "markdown",
   "id": "a7a8ce2c-789a-4a32-88c4-3c6cfea68f43",
   "metadata": {},
   "source": [
    "### elif\n",
    "```\n",
    "if <조건식>:\n",
    "    if 조건이 참인 경우 실행\n",
    "elif <조건식>:\n",
    "    elif 조건이 참인 경우 실행\n",
    "...\n",
    "else:\n",
    "    위의 조건식에 하나도 부합하지 않는 경우 실행\n",
    "```"
   ]
  },
  {
   "cell_type": "code",
   "execution_count": 128,
   "id": "7cfdc22d-35a1-40e0-a1a8-339b1218bde9",
   "metadata": {},
   "outputs": [
    {
     "name": "stdin",
     "output_type": "stream",
     "text": [
      " 95\n"
     ]
    }
   ],
   "source": [
    "score = int(input())"
   ]
  },
  {
   "cell_type": "code",
   "execution_count": 124,
   "id": "4358f2f3-0c82-4202-81a8-166e901e3abf",
   "metadata": {},
   "outputs": [
    {
     "name": "stdout",
     "output_type": "stream",
     "text": [
      "F\n"
     ]
    }
   ],
   "source": [
    "# 90점 이상 A\n",
    "# 80점 이상 B\n",
    "# 70점 이상 C\n",
    "# 나머지 F\n",
    "\n",
    "if score < 70:\n",
    "    print('F')\n",
    "elif score >= 70:\n",
    "    print('C')\n",
    "elif score >= 80:\n",
    "    print('B')\n",
    "else:\n",
    "    print('A')\n",
    "\n",
    "### 실수했던 문장. 왜냐하면 한번 if 조건에 만족하면 굳이 다음으로 넘어갈 필요가 없기 때문에. 역시 뭘 하던간에 제대로 된 우선순위의 설정이 중요하다\n",
    "\n"
   ]
  },
  {
   "cell_type": "code",
   "execution_count": 105,
   "id": "8b7fe744-7b18-4508-bda0-aaf60ceb4a5d",
   "metadata": {},
   "outputs": [
    {
     "name": "stdout",
     "output_type": "stream",
     "text": [
      "F\n"
     ]
    }
   ],
   "source": [
    "# 90점 이상 A\n",
    "# 80점 이상 B\n",
    "# 70점 이상 C\n",
    "# 나머지 F\n",
    "\n",
    "if score < 70:\n",
    "    print('F')\n",
    "elif score < 79:\n",
    "    print('C')\n",
    "elif score < 89:\n",
    "    print('B')\n",
    "else:\n",
    "    print('A')"
   ]
  },
  {
   "cell_type": "code",
   "execution_count": 121,
   "id": "ee2d1d41-317d-4fd3-beca-e13efb294e86",
   "metadata": {},
   "outputs": [
    {
     "name": "stdout",
     "output_type": "stream",
     "text": [
      "F\n"
     ]
    }
   ],
   "source": [
    "# 90점 이상 A\n",
    "# 80점 이상 B\n",
    "# 70점 이상 C\n",
    "# 나머지 F\n",
    "\n",
    "if score >= 90:\n",
    "    print('A')\n",
    "elif score >= 80:\n",
    "    print('B')\n",
    "elif score >= 70:\n",
    "    print('C')\n",
    "else:\n",
    "    print('F')"
   ]
  },
  {
   "cell_type": "code",
   "execution_count": 107,
   "id": "6f710100-b424-49be-a184-75ff765477b7",
   "metadata": {},
   "outputs": [
    {
     "name": "stdout",
     "output_type": "stream",
     "text": [
      "F\n"
     ]
    }
   ],
   "source": [
    "if score > 91:\n",
    "    print('A')\n",
    "elif score > 81:\n",
    "    print('B')\n",
    "elif score > 71:\n",
    "    print('C')\n",
    "else:\n",
    "    print('F')"
   ]
  },
  {
   "cell_type": "code",
   "execution_count": 131,
   "id": "0845d86a-6bf6-4ba7-951e-48fb3309ae43",
   "metadata": {},
   "outputs": [
    {
     "name": "stdout",
     "output_type": "stream",
     "text": [
      "참잘했어요\n"
     ]
    }
   ],
   "source": [
    "# 90점 이상 A (95점 이상 '참잘했어요')\n",
    "# 80점 이상 B\n",
    "# 70점 이상 C\n",
    "# 나머지 F\n",
    "\n",
    "if score >= 95:\n",
    "    print('참잘했어요')\n",
    "elif score >= 90:\n",
    "    print('A')\n",
    "elif score >= 80:\n",
    "    print('B')\n",
    "elif score >= 70:\n",
    "    print('C')\n",
    "else:\n",
    "    print('F')"
   ]
  },
  {
   "cell_type": "code",
   "execution_count": 76,
   "id": "cccc56b9-5063-405b-b0ab-c7f21fe4f51d",
   "metadata": {},
   "outputs": [
    {
     "name": "stdout",
     "output_type": "stream",
     "text": [
      "A\n",
      "참잘했어요\n"
     ]
    }
   ],
   "source": [
    "# 90점 이상 A (95점 이상 '참잘했어요')\n",
    "# 80점 이상 B\n",
    "# 70점 이상 C\n",
    "# 나머지 F\n",
    "\n",
    "\n",
    "if score >= 90:\n",
    "    print('A')\n",
    "    if score >= 95:\n",
    "        print('참잘했어요')\n",
    "elif score >= 80:\n",
    "    print('B')\n",
    "elif score >= 70:\n",
    "    print('C')\n",
    "else:\n",
    "    print('F')"
   ]
  },
  {
   "cell_type": "markdown",
   "id": "c3c8e3a1-b14f-4c7c-a980-4b156bf70fff",
   "metadata": {},
   "source": [
    "## 조건표현식\n",
    "- true_value if <조건식> else false_value"
   ]
  },
  {
   "cell_type": "code",
   "execution_count": 47,
   "id": "29fac3d8-7cc4-43ad-b8b9-a8ddf3a4aa55",
   "metadata": {},
   "outputs": [
    {
     "name": "stdout",
     "output_type": "stream",
     "text": [
      "True\n"
     ]
    }
   ],
   "source": [
    "print('True') if 1 > 0 else print('False')"
   ]
  },
  {
   "cell_type": "code",
   "execution_count": 49,
   "id": "4ec9d06a-b03b-4fbc-a2f7-1c5e51a24668",
   "metadata": {},
   "outputs": [
    {
     "name": "stdout",
     "output_type": "stream",
     "text": [
      "False\n"
     ]
    }
   ],
   "source": [
    "print('True') if 1 < 0 else print('False')"
   ]
  },
  {
   "cell_type": "code",
   "execution_count": 133,
   "id": "eead22a3-04bd-491d-b393-d85d2c8c2db4",
   "metadata": {},
   "outputs": [
    {
     "name": "stdout",
     "output_type": "stream",
     "text": [
      "True\n"
     ]
    }
   ],
   "source": [
    "if 1 > 0:\n",
    "    print('True')\n",
    "else:\n",
    "    print('False')"
   ]
  },
  {
   "cell_type": "code",
   "execution_count": 134,
   "id": "5b321ca9-4320-4156-87d9-f4d8a8fae84e",
   "metadata": {},
   "outputs": [
    {
     "name": "stdout",
     "output_type": "stream",
     "text": [
      "False\n"
     ]
    }
   ],
   "source": [
    "if 0 > 1:\n",
    "    print('True')\n",
    "else:\n",
    "    print('False')"
   ]
  },
  {
   "cell_type": "code",
   "execution_count": 71,
   "id": "bd760e52-1ba7-4129-ac6b-97692f9386b0",
   "metadata": {},
   "outputs": [
    {
     "name": "stdout",
     "output_type": "stream",
     "text": [
      "5\n"
     ]
    }
   ],
   "source": [
    "num = 5\n",
    "value = num if num >= 0 else 0\n",
    "print(value)"
   ]
  },
  {
   "cell_type": "code",
   "execution_count": 72,
   "id": "e7fb8cfd-62e1-423c-a26c-2e389d4738de",
   "metadata": {},
   "outputs": [
    {
     "name": "stdout",
     "output_type": "stream",
     "text": [
      "5\n"
     ]
    }
   ],
   "source": [
    "if num >= 0:\n",
    "    value = num\n",
    "    print(value)\n",
    "else:\n",
    "    print(0)"
   ]
  },
  {
   "cell_type": "code",
   "execution_count": 62,
   "id": "5d19f607-bf92-4ce5-97ed-eb59d0bfa668",
   "metadata": {},
   "outputs": [
    {
     "name": "stdout",
     "output_type": "stream",
     "text": [
      "0\n"
     ]
    }
   ],
   "source": [
    "# 강사 입력\n",
    "num = -5\n",
    "if num >= 0:\n",
    "    value = num\n",
    "else:\n",
    "    value = 0\n",
    "print(value)\n"
   ]
  },
  {
   "cell_type": "code",
   "execution_count": 63,
   "id": "e9c318a6-9cd6-4d1a-aa47-4db34d4eb9a2",
   "metadata": {},
   "outputs": [
    {
     "name": "stdout",
     "output_type": "stream",
     "text": [
      "짝수\n"
     ]
    }
   ],
   "source": [
    "#문제\n",
    "num = 2\n",
    "if num % 2 == 1:\n",
    "    result = '홀수'\n",
    "else:\n",
    "    result = '짝수'\n",
    "\n",
    "print(result)"
   ]
  },
  {
   "cell_type": "code",
   "execution_count": 65,
   "id": "9b46516e-0584-4e5b-ab72-a09b79e4869e",
   "metadata": {},
   "outputs": [
    {
     "name": "stdout",
     "output_type": "stream",
     "text": [
      "짝수\n"
     ]
    }
   ],
   "source": [
    "result = '홀수' if num % 2 == 1 else '짝수'\n",
    "print(result)"
   ]
  },
  {
   "cell_type": "code",
   "execution_count": 1,
   "id": "c666cf07-da60-4fd1-b61e-97e26da9a6a2",
   "metadata": {},
   "outputs": [
    {
     "name": "stdout",
     "output_type": "stream",
     "text": [
      "짝수\n"
     ]
    }
   ],
   "source": [
    "#강사 입력\n",
    "\n",
    "num = 2\n",
    "\n",
    "result = '홀수' if num % 2 == 1 else '짝수'\n",
    "print(result)"
   ]
  },
  {
   "cell_type": "markdown",
   "id": "676c0c26-4a98-419b-998d-ab9fb621bf1d",
   "metadata": {},
   "source": [
    "## 23-07-27"
   ]
  },
  {
   "cell_type": "markdown",
   "id": "860bda09-210b-455c-812c-be1944588bab",
   "metadata": {},
   "source": [
    "# 반복문\n",
    "\n",
    "## while 문\n",
    "\n",
    "```\n",
    "while <조건식>:\n",
    "    실행할 코드\n",
    "```"
   ]
  },
  {
   "cell_type": "code",
   "execution_count": 4,
   "id": "6b67f88a-939e-4343-ba90-a782e42cfa9a",
   "metadata": {},
   "outputs": [
    {
     "name": "stdout",
     "output_type": "stream",
     "text": [
      "1\n",
      "2\n",
      "3\n",
      "4\n",
      "5\n"
     ]
    }
   ],
   "source": [
    "a = 0\n",
    "\n",
    "while a < 5:\n",
    "    a += 1\n",
    "    print(a)"
   ]
  },
  {
   "cell_type": "code",
   "execution_count": 11,
   "id": "9e7c0a52-8e2b-4124-919e-0088278a5032",
   "metadata": {},
   "outputs": [
    {
     "name": "stdin",
     "output_type": "stream",
     "text": [
      "안녕하세요? ㅁㄴㅇㄹ\n",
      "안녕하세요? 안녕\n"
     ]
    }
   ],
   "source": [
    "# 문 : 사용자가 '안녕' 이라고 할 때까지 계속 입력을 요청받는 코드\n",
    "\n",
    "a = input('안녕하세요?')\n",
    "\n",
    "while a != '안녕':\n",
    "    a = input('안녕하세요?')\n"
   ]
  },
  {
   "cell_type": "code",
   "execution_count": 13,
   "id": "4ebb2ac2-4699-4cb9-a2af-537febce2dd0",
   "metadata": {},
   "outputs": [
    {
     "name": "stdin",
     "output_type": "stream",
     "text": [
      "안녕이라고 해줘 :  1234\n",
      "안녕이라고 해줘 :  안녕\n"
     ]
    }
   ],
   "source": [
    "#강사 입력\n",
    "\n",
    "greeting = ''\n",
    "\n",
    "while greeting != '안녕':\n",
    "    greeting = input('안녕이라고 해줘 : ')"
   ]
  },
  {
   "cell_type": "markdown",
   "id": "107a11d5-f0a8-45c8-97b7-31ff0fa6cbc3",
   "metadata": {},
   "source": [
    "## for\n",
    "정해진 범위 내의 반복\n",
    "\n",
    "```\n",
    "for variable in sequence:\n",
    "    code\n",
    "```\n",
    "\n",
    "while은 언제까지 일 해 / for은 작업량 몇 개까지 일해"
   ]
  },
  {
   "cell_type": "code",
   "execution_count": 14,
   "id": "2ab13c2c-7c4d-4d75-9d9e-7b5e681b486a",
   "metadata": {},
   "outputs": [
    {
     "name": "stdout",
     "output_type": "stream",
     "text": [
      "1\n",
      "2\n",
      "3\n",
      "4\n",
      "5\n"
     ]
    }
   ],
   "source": [
    "numbers = [1, 2, 3, 4, 5]\n",
    "\n",
    "for number in numbers:\n",
    "    print(number)"
   ]
  },
  {
   "cell_type": "code",
   "execution_count": 19,
   "id": "dc04bc04-5be8-439c-8747-355fa370df91",
   "metadata": {},
   "outputs": [],
   "source": [
    "# 문 : for문을 사용해서 사용자가 입력한 데이터를 한글자씩 출력하는 코드\n",
    "\n",
    "messages = []\n",
    "\n",
    "for message in messages:\n",
    "    messages = input(messages)\n",
    "\n"
   ]
  },
  {
   "cell_type": "code",
   "execution_count": 20,
   "id": "0e541b98-93b8-43af-afcb-e6d9675fbec2",
   "metadata": {},
   "outputs": [
    {
     "name": "stdin",
     "output_type": "stream",
     "text": [
      "단어를 입력해주세요:  dict\n"
     ]
    },
    {
     "name": "stdout",
     "output_type": "stream",
     "text": [
      "d\n",
      "i\n",
      "c\n",
      "t\n"
     ]
    }
   ],
   "source": [
    "#강사 입력\n",
    "\n",
    "word = input('단어를 입력해주세요: ')\n",
    "\n",
    "for char in word:\n",
    "    print(char)"
   ]
  },
  {
   "cell_type": "code",
   "execution_count": 23,
   "id": "156e439a-33db-4686-b67c-0418d7e6978a",
   "metadata": {},
   "outputs": [
    {
     "name": "stdout",
     "output_type": "stream",
     "text": [
      "0\n",
      "1\n",
      "2\n",
      "3\n",
      "4\n"
     ]
    }
   ],
   "source": [
    "for i in range(5):\n",
    "    print(i)"
   ]
  },
  {
   "cell_type": "code",
   "execution_count": 24,
   "id": "423aa4ef-5fd0-4d8e-967f-4509b88e8d31",
   "metadata": {},
   "outputs": [
    {
     "name": "stdout",
     "output_type": "stream",
     "text": [
      "1\n",
      "2\n",
      "3\n",
      "4\n",
      "5\n"
     ]
    }
   ],
   "source": [
    "for i in (1, 2, 3, 4, 5):\n",
    "    print(i)"
   ]
  },
  {
   "cell_type": "code",
   "execution_count": 49,
   "id": "d673f430-8c11-4bc4-bb22-06e723658022",
   "metadata": {},
   "outputs": [
    {
     "name": "stdout",
     "output_type": "stream",
     "text": [
      "[1, 3, 5, 7, 9, 11, 13, 15, 17, 19, 21, 23, 25, 27, 29]\n",
      "[1, 3, 5, 7, 9, 11, 13, 15, 17, 19, 21, 23, 25, 27, 29]\n",
      "[1, 3, 5, 7, 9, 11, 13, 15, 17, 19, 21, 23, 25, 27, 29]\n",
      "[1, 3, 5, 7, 9, 11, 13, 15, 17, 19, 21, 23, 25, 27, 29]\n",
      "[1, 3, 5, 7, 9, 11, 13, 15, 17, 19, 21, 23, 25, 27, 29]\n",
      "[1, 3, 5, 7, 9, 11, 13, 15, 17, 19, 21, 23, 25, 27, 29]\n",
      "[1, 3, 5, 7, 9, 11, 13, 15, 17, 19, 21, 23, 25, 27, 29]\n",
      "[1, 3, 5, 7, 9, 11, 13, 15, 17, 19, 21, 23, 25, 27, 29]\n",
      "[1, 3, 5, 7, 9, 11, 13, 15, 17, 19, 21, 23, 25, 27, 29]\n",
      "[1, 3, 5, 7, 9, 11, 13, 15, 17, 19, 21, 23, 25, 27, 29]\n",
      "[1, 3, 5, 7, 9, 11, 13, 15, 17, 19, 21, 23, 25, 27, 29]\n",
      "[1, 3, 5, 7, 9, 11, 13, 15, 17, 19, 21, 23, 25, 27, 29]\n",
      "[1, 3, 5, 7, 9, 11, 13, 15, 17, 19, 21, 23, 25, 27, 29]\n",
      "[1, 3, 5, 7, 9, 11, 13, 15, 17, 19, 21, 23, 25, 27, 29]\n",
      "[1, 3, 5, 7, 9, 11, 13, 15, 17, 19, 21, 23, 25, 27, 29]\n"
     ]
    },
    {
     "ename": "TypeError",
     "evalue": "int() argument must be a string, a bytes-like object or a real number, not 'range'",
     "output_type": "error",
     "traceback": [
      "\u001b[1;31m---------------------------------------------------------------------------\u001b[0m",
      "\u001b[1;31mTypeError\u001b[0m                                 Traceback (most recent call last)",
      "Cell \u001b[1;32mIn[49], line 10\u001b[0m\n\u001b[0;32m      6\u001b[0m     \u001b[38;5;28mprint\u001b[39m(\u001b[38;5;28mlist\u001b[39m(numbers))\n\u001b[0;32m      8\u001b[0m numbers \u001b[38;5;241m=\u001b[39m \u001b[38;5;28mrange\u001b[39m(\u001b[38;5;241m1\u001b[39m, \u001b[38;5;241m31\u001b[39m)\n\u001b[1;32m---> 10\u001b[0m \u001b[38;5;28;01mif\u001b[39;00m \u001b[38;5;28;43mint\u001b[39;49m\u001b[43m(\u001b[49m\u001b[43mnumbers\u001b[49m\u001b[43m)\u001b[49m \u001b[38;5;241m%\u001b[39m \u001b[38;5;241m2\u001b[39m \u001b[38;5;241m==\u001b[39m \u001b[38;5;241m1\u001b[39m:\n\u001b[0;32m     11\u001b[0m     \u001b[38;5;28;01mfor\u001b[39;00m i \u001b[38;5;129;01min\u001b[39;00m numbers:\n\u001b[0;32m     12\u001b[0m         \u001b[38;5;28mprint\u001b[39m(i)\n",
      "\u001b[1;31mTypeError\u001b[0m: int() argument must be a string, a bytes-like object or a real number, not 'range'"
     ]
    }
   ],
   "source": [
    "# 문 : 1~30까지 숫자 중에서 홀수만 담긴 리스트를 출력\n",
    "\n",
    "numbers = range(1, 31, 2)\n",
    "for i in numbers:\n",
    "    \n",
    "    print(list(numbers))\n",
    "\n",
    "numbers = range(1, 31)\n",
    "\n",
    "if numbers % 2 == 1:\n",
    "    for i in numbers:\n",
    "        print(i)\n",
    "\n",
    "    "
   ]
  },
  {
   "cell_type": "code",
   "execution_count": 51,
   "id": "dcf4df11-3658-41ca-bea6-cab0c93ab802",
   "metadata": {},
   "outputs": [
    {
     "name": "stdout",
     "output_type": "stream",
     "text": [
      "[1, 3, 5, 7, 9, 11, 13, 15, 17, 19, 21, 23, 25, 27, 29]\n"
     ]
    }
   ],
   "source": [
    "# 강사 입력\n",
    "\n",
    "# 1. 1~30까지 숫자 중에서 홀수 출력\n",
    "# 2. 1~30까지 숫자 중에서 홀수들을 모아 리스트로 출력\n",
    "\n",
    "numbers = range(31)\n",
    "result = []\n",
    "\n",
    "for number in numbers:\n",
    "    if number % 2 == 1:        \n",
    "        #print(number)\n",
    "        result.append(number)\n",
    "\n",
    "print(result)"
   ]
  },
  {
   "cell_type": "code",
   "execution_count": 60,
   "id": "d0f2eb6b-7a0b-4fd4-b621-a25623973bd8",
   "metadata": {},
   "outputs": [
    {
     "name": "stdout",
     "output_type": "stream",
     "text": [
      "0\n",
      "라면\n",
      "1\n",
      "김밥\n",
      "2\n",
      "돈까스\n"
     ]
    }
   ],
   "source": [
    "menus = ['라면', '김밥', '돈까스']\n",
    "\n",
    "for menu in enumerate(menus):\n",
    "    print(menu[0])\n",
    "    print(menu[1])"
   ]
  },
  {
   "cell_type": "code",
   "execution_count": 63,
   "id": "c95e5edc-c787-4e71-bdf1-219e5755412e",
   "metadata": {},
   "outputs": [
    {
     "name": "stdout",
     "output_type": "stream",
     "text": [
      "0\n",
      "라면\n",
      "1\n",
      "김밥\n",
      "2\n",
      "돈까스\n"
     ]
    }
   ],
   "source": [
    "menus = ['라면', '김밥', '돈까스']\n",
    "\n",
    "for idx, menu in enumerate(menus):\n",
    "    print(idx)\n",
    "    print(menu)\n",
    "    "
   ]
  },
  {
   "cell_type": "code",
   "execution_count": 58,
   "id": "b67e945e-6247-4090-a269-cdabbc6718a3",
   "metadata": {},
   "outputs": [
    {
     "data": {
      "text/plain": [
       "<enumerate at 0x27ff9dea660>"
      ]
     },
     "execution_count": 58,
     "metadata": {},
     "output_type": "execute_result"
    }
   ],
   "source": [
    "enumerate(menus)"
   ]
  },
  {
   "cell_type": "markdown",
   "id": "6e494ca6-d67d-4d25-8f01-aa87e74ed21f",
   "metadata": {},
   "source": [
    "## dictionary 반복\n",
    "\n",
    "1. for key in dict:\n",
    "2. for key in dict.keys():\n",
    "3. for value in dict.value():\n",
    "4. for key, value in dict.items():"
   ]
  },
  {
   "cell_type": "code",
   "execution_count": 64,
   "id": "ac62bf25-7e3c-4c45-a175-de67a680b771",
   "metadata": {},
   "outputs": [],
   "source": [
    "info = {\n",
    "    'name' : 'changhee',\n",
    "    'location' : 'seoul',\n",
    "    'phone' : '010-1234-1324',\n",
    "}"
   ]
  },
  {
   "cell_type": "code",
   "execution_count": 66,
   "id": "a32e3014-0a53-4781-9ceb-3d1dc948d2e1",
   "metadata": {},
   "outputs": [
    {
     "name": "stdout",
     "output_type": "stream",
     "text": [
      "name\n",
      "changhee\n",
      "location\n",
      "seoul\n",
      "phone\n",
      "010-1234-1324\n"
     ]
    }
   ],
   "source": [
    "for i in info:\n",
    "    print(i)\n",
    "    print(info[i])"
   ]
  },
  {
   "cell_type": "code",
   "execution_count": 67,
   "id": "ce9ffcbe-e624-42fb-b267-fce52eb4c3d9",
   "metadata": {},
   "outputs": [],
   "source": [
    "blood_type = {\n",
    "    'A' : 5,\n",
    "    'B' : 4,\n",
    "    'O' : 2,\n",
    "    'AB' : 3,\n",
    "}"
   ]
  },
  {
   "cell_type": "code",
   "execution_count": 69,
   "id": "d8ce892b-6e55-4480-88d2-06c44bd4b3f7",
   "metadata": {},
   "outputs": [
    {
     "name": "stdout",
     "output_type": "stream",
     "text": [
      "혈액형 목록은 다음과 같습니다.\n",
      "A\n",
      "B\n",
      "O\n",
      "AB\n"
     ]
    }
   ],
   "source": [
    "print('혈액형 목록은 다음과 같습니다.')\n",
    "for key in blood_type:\n",
    "    print(key)"
   ]
  },
  {
   "cell_type": "code",
   "execution_count": 70,
   "id": "b58a1b59-4651-480b-bc6a-b79413187c93",
   "metadata": {},
   "outputs": [
    {
     "name": "stdout",
     "output_type": "stream",
     "text": [
      "혈액형 목록은 다음과 같습니다.\n",
      "A\n",
      "B\n",
      "O\n",
      "AB\n"
     ]
    }
   ],
   "source": [
    "print('혈액형 목록은 다음과 같습니다.')\n",
    "for key in blood_type.keys():\n",
    "    print(key)"
   ]
  },
  {
   "cell_type": "code",
   "execution_count": 73,
   "id": "5fcf328c-9904-4361-bb95-e8876699f689",
   "metadata": {},
   "outputs": [
    {
     "name": "stdout",
     "output_type": "stream",
     "text": [
      "총인원은 14명입니다.\n"
     ]
    }
   ],
   "source": [
    "result = 0\n",
    "\n",
    "for value in blood_type.values():\n",
    "    result = result + value\n",
    "print(f'총인원은 {result}명입니다.')"
   ]
  },
  {
   "cell_type": "code",
   "execution_count": 76,
   "id": "d22dfcf3-6bd2-419e-9c68-1eedc2cda5d4",
   "metadata": {},
   "outputs": [
    {
     "name": "stdout",
     "output_type": "stream",
     "text": [
      "A형은 5명입니다.\n",
      "B형은 4명입니다.\n",
      "O형은 2명입니다.\n",
      "AB형은 3명입니다.\n"
     ]
    }
   ],
   "source": [
    "for key, value in blood_type.items():\n",
    "    print(f'{key}형은 {value}명입니다.')"
   ]
  },
  {
   "cell_type": "code",
   "execution_count": 75,
   "id": "c71bcb01-4193-4d86-b328-420255ebd0a1",
   "metadata": {},
   "outputs": [
    {
     "data": {
      "text/plain": [
       "dict_items([('A', 5), ('B', 4), ('O', 2), ('AB', 3)])"
      ]
     },
     "execution_count": 75,
     "metadata": {},
     "output_type": "execute_result"
    }
   ],
   "source": [
    "blood_type.items()"
   ]
  },
  {
   "cell_type": "markdown",
   "id": "c9ff7e4a-89ad-4e11-ac3d-5c81e92da041",
   "metadata": {},
   "source": [
    "### break\n",
    "반복문을 종료시키는 키워드"
   ]
  },
  {
   "cell_type": "code",
   "execution_count": 78,
   "id": "b731e71c-7bbc-4ab9-b884-0e0448f8ae79",
   "metadata": {},
   "outputs": [
    {
     "name": "stdout",
     "output_type": "stream",
     "text": [
      "0\n",
      "1\n",
      "2\n",
      "3\n",
      "4\n",
      "5\n",
      "6\n",
      "7\n",
      "8\n",
      "9\n",
      "10\n",
      "10넘었어\n"
     ]
    }
   ],
   "source": [
    "for i in range(100):\n",
    "    if i > 10:\n",
    "        print('10넘었어')\n",
    "        break\n",
    "    print(i)"
   ]
  },
  {
   "cell_type": "code",
   "execution_count": 84,
   "id": "7b4fc5e8-f824-4784-a1ea-bbacb2b624c0",
   "metadata": {},
   "outputs": [
    {
     "name": "stdout",
     "output_type": "stream",
     "text": [
      "보리\n",
      "보리\n",
      "보리\n",
      "쌀\n",
      "잡았다!\n"
     ]
    }
   ],
   "source": [
    "# 문 : 쌀이 나오면 그만 반복하게\n",
    "\n",
    "rice = ['보리', '보리', '보리', '쌀', '보리', '보리']\n",
    "\n",
    "for i in rice:\n",
    "    print(i)\n",
    "    if i == '쌀':\n",
    "        print('잡았다!')\n",
    "        break\n"
   ]
  },
  {
   "cell_type": "code",
   "execution_count": 86,
   "id": "8eb24530-7755-498e-aeaa-4bc32ebd4788",
   "metadata": {},
   "outputs": [
    {
     "name": "stdout",
     "output_type": "stream",
     "text": [
      "보리\n",
      "보리\n",
      "보리\n",
      "쌀\n",
      "잡았다!\n"
     ]
    }
   ],
   "source": [
    "# 강사 작성\n",
    "\n",
    "rice = ['보리', '보리', '보리', '쌀', '보리', '보리']\n",
    "\n",
    "for r in rice:\n",
    "    print(r)\n",
    "    if r == '쌀':\n",
    "        print('잡았다!')\n",
    "        break"
   ]
  },
  {
   "cell_type": "markdown",
   "id": "dda42dfe-3fa2-417c-8340-52c66d5a6c0c",
   "metadata": {},
   "source": [
    "### continue\n",
    "continue 이후의 코드를 실행하지 않고 다음 반복을 진행"
   ]
  },
  {
   "cell_type": "code",
   "execution_count": 89,
   "id": "3e344cf1-130a-4be1-bc1b-b06469d571d2",
   "metadata": {},
   "outputs": [
    {
     "name": "stdout",
     "output_type": "stream",
     "text": [
      "0\n",
      "2\n",
      "4\n",
      "6\n",
      "8\n"
     ]
    }
   ],
   "source": [
    "for i in range(10):\n",
    "    if i % 2:\n",
    "        continue\n",
    "    print(i)\n"
   ]
  },
  {
   "cell_type": "code",
   "execution_count": 90,
   "id": "06bf51d8-430d-4e01-8f62-db8e4fb87d90",
   "metadata": {},
   "outputs": [
    {
     "name": "stdout",
     "output_type": "stream",
     "text": [
      "성인입니다\n",
      "성인입니다\n",
      "성인입니다\n"
     ]
    }
   ],
   "source": [
    "#문 : 성인만 출력\n",
    "age = [10, 35, 20, 18, 9, 40]\n",
    "\n",
    "for i in age:\n",
    "    if i <= 19:\n",
    "        continue\n",
    "    print('성인입니다')\n",
    "        \n",
    "\n"
   ]
  },
  {
   "cell_type": "code",
   "execution_count": 92,
   "id": "46085d18-2394-4f7f-aebe-806a825bed6e",
   "metadata": {},
   "outputs": [
    {
     "name": "stdout",
     "output_type": "stream",
     "text": [
      "성인입니다.\n",
      "성인입니다.\n",
      "성인입니다.\n"
     ]
    }
   ],
   "source": [
    "# 강사 입력\n",
    "\n",
    "age = [10, 35, 20, 18, 9, 40]\n",
    "\n",
    "for a in age:\n",
    "    if a < 20:\n",
    "        continue\n",
    "    print('성인입니다.')\n",
    "    "
   ]
  },
  {
   "cell_type": "markdown",
   "id": "81aa3657-963d-4fd8-a863-4c3f2fbae4b0",
   "metadata": {},
   "source": [
    "### else\n",
    "else문은 끝까지 반복이 진행된 후 실행됩니다."
   ]
  },
  {
   "cell_type": "code",
   "execution_count": 95,
   "id": "efdb5581-0984-4024-b340-9c2a8bde6e38",
   "metadata": {},
   "outputs": [
    {
     "name": "stdout",
     "output_type": "stream",
     "text": [
      "0\n",
      "1\n",
      "2\n",
      "3\n",
      "4\n",
      "5\n",
      "6\n",
      "7\n",
      "8\n",
      "9\n",
      "break 못만남\n"
     ]
    }
   ],
   "source": [
    "for i in range(10):\n",
    "    if i > 100:\n",
    "        break\n",
    "    print(i)\n",
    "else:\n",
    "    print('break 못만남')"
   ]
  },
  {
   "cell_type": "code",
   "execution_count": 96,
   "id": "c1f26b2a-eb16-4e71-be9e-69fdf8cb59d8",
   "metadata": {},
   "outputs": [
    {
     "name": "stdout",
     "output_type": "stream",
     "text": [
      "0\n",
      "1\n",
      "2\n",
      "3\n",
      "4\n",
      "5\n"
     ]
    }
   ],
   "source": [
    "for i in range(10):\n",
    "    if i > 5:\n",
    "        break\n",
    "    print(i)\n",
    "else:\n",
    "    print('break 못만남')"
   ]
  },
  {
   "cell_type": "code",
   "execution_count": 98,
   "id": "32e11314-9c3f-4c2d-a8dd-35b7f4d38d62",
   "metadata": {},
   "outputs": [
    {
     "name": "stdout",
     "output_type": "stream",
     "text": [
      "True\n",
      "False\n"
     ]
    }
   ],
   "source": [
    "numbers = [1, 3, 5, 7, 9]\n",
    "print(3 in numbers)\n",
    "print(2 in numbers)"
   ]
  },
  {
   "cell_type": "code",
   "execution_count": 100,
   "id": "f4fca4ef-33cc-4c48-a286-ce55e09379f2",
   "metadata": {},
   "outputs": [
    {
     "name": "stdout",
     "output_type": "stream",
     "text": [
      "True\n",
      "True\n",
      "True\n",
      "True\n",
      "True\n"
     ]
    }
   ],
   "source": [
    "#문 : 위와 똑같은 기능을 for와 else를 사용하여 구현해라.\n",
    "numbers = [1, 3, 5, 7, 9]\n",
    "\n",
    "for number in numbers:\n",
    "    print(number in numbers)"
   ]
  },
  {
   "cell_type": "code",
   "execution_count": 104,
   "id": "5a4b4d54-708e-4d49-934c-42d39438d264",
   "metadata": {},
   "outputs": [
    {
     "name": "stdout",
     "output_type": "stream",
     "text": [
      "True\n"
     ]
    }
   ],
   "source": [
    "# 강사 입력\n",
    "\n",
    "numbers = [1, 3, 5, 7, 9]\n",
    "target = 1\n",
    "\n",
    "for number in numbers:\n",
    "    # if문을 통해 내가 원하는 숫자가 있으면 True\n",
    "    if number == target:\n",
    "        print('True')\n",
    "        break\n",
    "else:\n",
    "    print('False')"
   ]
  },
  {
   "cell_type": "markdown",
   "id": "175b3dc1-8e15-4293-aa5e-938b1853a9bd",
   "metadata": {},
   "source": [
    "### pass"
   ]
  },
  {
   "cell_type": "code",
   "execution_count": 105,
   "id": "68f71618-25d2-4c4f-b15b-242e9a224bff",
   "metadata": {},
   "outputs": [
    {
     "ename": "SyntaxError",
     "evalue": "incomplete input (233392850.py, line 1)",
     "output_type": "error",
     "traceback": [
      "\u001b[1;36m  Cell \u001b[1;32mIn[105], line 1\u001b[1;36m\u001b[0m\n\u001b[1;33m    if True:\u001b[0m\n\u001b[1;37m            ^\u001b[0m\n\u001b[1;31mSyntaxError\u001b[0m\u001b[1;31m:\u001b[0m incomplete input\n"
     ]
    }
   ],
   "source": [
    "if True:\n"
   ]
  },
  {
   "cell_type": "code",
   "execution_count": 106,
   "id": "92d50297-b8a7-4c71-8909-da7a9075f4a9",
   "metadata": {},
   "outputs": [],
   "source": [
    "if True:\n",
    "    pass"
   ]
  },
  {
   "cell_type": "markdown",
   "id": "ba6c6e20-018f-4e5a-ac0e-cd5fbf145b4e",
   "metadata": {},
   "source": [
    "### match\n",
    "\n",
    "```\n",
    "match value:\n",
    "    case 조건:\n",
    "        code\n",
    "    case 조건:\n",
    "        cade\n",
    "    case _:\n",
    "        code\n",
    "```"
   ]
  },
  {
   "cell_type": "code",
   "execution_count": 107,
   "id": "c368c59d-51b3-4223-a4a3-161c698d9388",
   "metadata": {},
   "outputs": [
    {
     "name": "stdout",
     "output_type": "stream",
     "text": [
      "Somethins is wrong\n"
     ]
    }
   ],
   "source": [
    "status = 100\n",
    "\n",
    "match status:\n",
    "    case 400:\n",
    "        print('Bad request')\n",
    "    case 404:\n",
    "        print('Not found')\n",
    "    case _:\n",
    "        print('Somethins is wrong')"
   ]
  },
  {
   "cell_type": "code",
   "execution_count": null,
   "id": "f57dc624-a4bc-4a55-9d00-b344aff3c380",
   "metadata": {},
   "outputs": [],
   "source": []
  },
  {
   "cell_type": "code",
   "execution_count": 1,
   "id": "a0a52491-2185-412c-a2e1-355c45724063",
   "metadata": {},
   "outputs": [
    {
     "name": "stdin",
     "output_type": "stream",
     "text": [
      " 123\n"
     ]
    },
    {
     "data": {
      "text/plain": [
       "'123'"
      ]
     },
     "execution_count": 1,
     "metadata": {},
     "output_type": "execute_result"
    }
   ],
   "source": [
    "a = input()\n",
    "a"
   ]
  },
  {
   "cell_type": "code",
   "execution_count": null,
   "id": "a51fb7a7-7ff7-4063-97a2-a0930d394d61",
   "metadata": {},
   "outputs": [],
   "source": []
  },
  {
   "cell_type": "code",
   "execution_count": null,
   "id": "79150d87-6862-4efb-b948-84ec597698a3",
   "metadata": {},
   "outputs": [],
   "source": []
  },
  {
   "cell_type": "code",
   "execution_count": null,
   "id": "b63415be-9844-4ddb-9874-b18733cf4cb9",
   "metadata": {},
   "outputs": [],
   "source": []
  },
  {
   "cell_type": "code",
   "execution_count": null,
   "id": "1e03aedb-b1cd-4c6f-8ccf-ce75a6942bba",
   "metadata": {},
   "outputs": [],
   "source": []
  },
  {
   "cell_type": "code",
   "execution_count": null,
   "id": "bfb55b58-9523-431a-9bd0-86e3c967ac32",
   "metadata": {},
   "outputs": [],
   "source": []
  },
  {
   "cell_type": "code",
   "execution_count": null,
   "id": "0925c448-98f3-435f-992b-22f4cb48affe",
   "metadata": {},
   "outputs": [],
   "source": []
  },
  {
   "cell_type": "code",
   "execution_count": null,
   "id": "1168058a-b44b-468f-861b-19889a205c94",
   "metadata": {},
   "outputs": [],
   "source": []
  },
  {
   "cell_type": "code",
   "execution_count": null,
   "id": "35371276-d429-4a01-8206-18347b1ee720",
   "metadata": {},
   "outputs": [],
   "source": []
  },
  {
   "cell_type": "code",
   "execution_count": null,
   "id": "c868ff88-a4d7-44d6-b40b-e2b407722beb",
   "metadata": {},
   "outputs": [],
   "source": []
  },
  {
   "cell_type": "code",
   "execution_count": null,
   "id": "84591eb5-1e88-4885-9355-dfa8f63a89b8",
   "metadata": {},
   "outputs": [],
   "source": []
  },
  {
   "cell_type": "code",
   "execution_count": null,
   "id": "67bc98a0-8113-4fed-a20c-d44b7102b1f3",
   "metadata": {},
   "outputs": [],
   "source": []
  },
  {
   "cell_type": "code",
   "execution_count": null,
   "id": "74aa7900-c882-4ed0-aa43-c43b13ee1cdc",
   "metadata": {},
   "outputs": [],
   "source": []
  },
  {
   "cell_type": "code",
   "execution_count": null,
   "id": "e5f1d803-1092-47c4-94a9-37361036b89c",
   "metadata": {},
   "outputs": [],
   "source": []
  },
  {
   "cell_type": "code",
   "execution_count": null,
   "id": "8314595b-92ec-47a5-a81a-557ea47f40f7",
   "metadata": {},
   "outputs": [],
   "source": []
  },
  {
   "cell_type": "code",
   "execution_count": null,
   "id": "397a8224-3191-4cbe-9b53-bd5b0e2e7d2b",
   "metadata": {},
   "outputs": [],
   "source": []
  },
  {
   "cell_type": "code",
   "execution_count": null,
   "id": "8808a0cf-92b5-43b8-9eba-3d0a970453ab",
   "metadata": {},
   "outputs": [],
   "source": []
  },
  {
   "cell_type": "code",
   "execution_count": null,
   "id": "d6dcf2ca-082a-4caa-9578-afacbc4b8a11",
   "metadata": {},
   "outputs": [],
   "source": []
  },
  {
   "cell_type": "code",
   "execution_count": null,
   "id": "206e08bc-0cdf-4e53-9f42-a7b9654bfa81",
   "metadata": {},
   "outputs": [],
   "source": []
  },
  {
   "cell_type": "code",
   "execution_count": null,
   "id": "bcb822c3-fa8c-481a-a194-166152f3515d",
   "metadata": {},
   "outputs": [],
   "source": []
  }
 ],
 "metadata": {
  "kernelspec": {
   "display_name": "Python 3 (ipykernel)",
   "language": "python",
   "name": "python3"
  },
  "language_info": {
   "codemirror_mode": {
    "name": "ipython",
    "version": 3
   },
   "file_extension": ".py",
   "mimetype": "text/x-python",
   "name": "python",
   "nbconvert_exporter": "python",
   "pygments_lexer": "ipython3",
   "version": "3.11.4"
  }
 },
 "nbformat": 4,
 "nbformat_minor": 5
}
