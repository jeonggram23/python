{
 "cells": [
  {
   "cell_type": "markdown",
   "id": "1c690a86-dcf7-407c-818f-50621d33faa3",
   "metadata": {},
   "source": [
    "# 객체지향 프로그래밍(OOP)\n",
    "\n",
    "- 클래스(class) : 같은 종류의 집단에 속하는 속성(attribute)과 행위(method)를 **정의**한 것\n",
    "- 인스턴스(instance) : 클래스를 실제로 메모리상에 할당한 것\n",
    "- 속성(attribute) : 클래스/인스턴스가 가지고 있는 **데이터**/값\n",
    "- 행위(method) : 클래스/인스턴스가 가지고 있는 **함수**/기능"
   ]
  },
  {
   "cell_type": "code",
   "execution_count": 1,
   "id": "5e9ff15c-999b-488d-8b6c-20c4ef9304b0",
   "metadata": {},
   "outputs": [
    {
     "name": "stdout",
     "output_type": "stream",
     "text": [
      "(1+2j)\n"
     ]
    }
   ],
   "source": [
    "number = 1 + 2j\n",
    "print(number)"
   ]
  },
  {
   "cell_type": "code",
   "execution_count": 4,
   "id": "19ae5242-9a24-4ebe-9570-c36b1384acce",
   "metadata": {
    "collapsed": true,
    "jupyter": {
     "outputs_hidden": true
    }
   },
   "outputs": [
    {
     "name": "stdout",
     "output_type": "stream",
     "text": [
      "1.0\n",
      "2.0\n"
     ]
    }
   ],
   "source": [
    "print(number.real)\n",
    "print(number.imag)"
   ]
  },
  {
   "cell_type": "code",
   "execution_count": 7,
   "id": "aacbec2f-a660-4fe3-85a1-7f59c0232bed",
   "metadata": {},
   "outputs": [
    {
     "name": "stdout",
     "output_type": "stream",
     "text": [
      "<class 'complex'>\n"
     ]
    }
   ],
   "source": [
    "print(type(number))"
   ]
  },
  {
   "cell_type": "code",
   "execution_count": 8,
   "id": "e9271fcb-90ed-4f90-97cd-565a158f75a9",
   "metadata": {},
   "outputs": [
    {
     "name": "stdout",
     "output_type": "stream",
     "text": [
      "<class 'list'>\n"
     ]
    }
   ],
   "source": [
    "my_list = [1, 2, 3, 4, 5]\n",
    "print(type(my_list))\n",
    "my_list.sort()"
   ]
  },
  {
   "cell_type": "code",
   "execution_count": 9,
   "id": "aad9945d-609a-43d9-849c-c923dd698125",
   "metadata": {},
   "outputs": [],
   "source": [
    "power = False\n",
    "number = '010-1234-1234'\n",
    "book = {\n",
    "    '홍길동' : '010-1111-1111',\n",
    "    '이순신' : '010-2222-2222',\n",
    "}\n",
    "model = 'iPhone12'"
   ]
  },
  {
   "cell_type": "code",
   "execution_count": 10,
   "id": "7a185a9e-d421-4cf3-be3b-598bbf6cf764",
   "metadata": {},
   "outputs": [],
   "source": [
    "def on():\n",
    "    global power\n",
    "    if power == False:\n",
    "        power = True\n",
    "        print('핸드폰이 켜졌습니다.')"
   ]
  },
  {
   "cell_type": "code",
   "execution_count": 11,
   "id": "d6db8ebb-48a6-4a20-b0cc-09cbdf1aa833",
   "metadata": {},
   "outputs": [
    {
     "name": "stdout",
     "output_type": "stream",
     "text": [
      "핸드폰이 켜졌습니다.\n"
     ]
    }
   ],
   "source": [
    "on()"
   ]
  },
  {
   "cell_type": "markdown",
   "id": "b0e6fe88-d3ef-45e9-b63a-2be42935db96",
   "metadata": {},
   "source": [
    "## Class\n",
    "\n",
    "- 클래스 선언\n",
    "```python\n",
    "class ClassName:\n",
    "    attribute = value\n",
    "\n",
    "    def method_name(self):\n",
    "        code\n",
    "```\n",
    "\n",
    "- 인스턴스화\n",
    "\n",
    "  ClassName()"
   ]
  },
  {
   "cell_type": "code",
   "execution_count": 12,
   "id": "1c341582-0ed8-4dd8-8bfb-08d4516a953f",
   "metadata": {},
   "outputs": [],
   "source": [
    "# 선언\n",
    "class MyClass:\n",
    "    name = 'kim'\n",
    "\n",
    "    def hello(self):\n",
    "        return 'hello'"
   ]
  },
  {
   "cell_type": "code",
   "execution_count": 16,
   "id": "e865f8a1-46e2-4d2a-a543-3f17455d9f35",
   "metadata": {},
   "outputs": [
    {
     "name": "stdout",
     "output_type": "stream",
     "text": [
      "kim\n",
      "hello\n",
      "kim\n",
      "hello\n"
     ]
    }
   ],
   "source": [
    "# 인스턴스화\n",
    "a = MyClass()\n",
    "\n",
    "print(a.name)\n",
    "print(a.hello())\n",
    "\n",
    "b = MyClass()\n",
    "\n",
    "print(b.name)\n",
    "print(b.hello())"
   ]
  },
  {
   "cell_type": "code",
   "execution_count": 29,
   "id": "366a8a34-d58b-4589-9038-a417b1cadb24",
   "metadata": {},
   "outputs": [],
   "source": [
    "class Phone:\n",
    "    power = False\n",
    "    number = '010-0000-0000'\n",
    "    book = {}\n",
    "    model = ''\n",
    "\n",
    "    def on(self):\n",
    "        if self.power == False:\n",
    "            self.power = True\n",
    "\n",
    "    def off(self):\n",
    "        if self.power == True:\n",
    "            self.power = False\n",
    "\n",
    "    def call(self, target):\n",
    "        if self.power == True:\n",
    "            print(f'내 번호는 {self.number}입니다.')\n",
    "            print(f'{target}번호로 전화거는중')\n",
    "        else:\n",
    "            print('핸드폰을 켜주세요')"
   ]
  },
  {
   "cell_type": "code",
   "execution_count": 30,
   "id": "0d7d5307-170a-4ab8-a563-6d658cc35237",
   "metadata": {},
   "outputs": [],
   "source": [
    "my_phone = Phone()\n",
    "your_phone = Phone()"
   ]
  },
  {
   "cell_type": "code",
   "execution_count": 31,
   "id": "178ff521-cea5-4437-81ca-28e831de04dc",
   "metadata": {},
   "outputs": [
    {
     "data": {
      "text/plain": [
       "'010-0000-0000'"
      ]
     },
     "execution_count": 31,
     "metadata": {},
     "output_type": "execute_result"
    }
   ],
   "source": [
    "my_phone.number"
   ]
  },
  {
   "cell_type": "code",
   "execution_count": 32,
   "id": "41a0c75b-ff8d-4f95-a4e8-680421e79521",
   "metadata": {},
   "outputs": [
    {
     "name": "stdout",
     "output_type": "stream",
     "text": [
      "010-1234-1234\n"
     ]
    }
   ],
   "source": [
    "my_phone.number = '010-1234-1234'\n",
    "print(my_phone.number)"
   ]
  },
  {
   "cell_type": "code",
   "execution_count": 33,
   "id": "4c1ec3fd-c609-4dc3-a53e-45730b61cecb",
   "metadata": {},
   "outputs": [
    {
     "data": {
      "text/plain": [
       "'010-0000-0000'"
      ]
     },
     "execution_count": 33,
     "metadata": {},
     "output_type": "execute_result"
    }
   ],
   "source": [
    "your_phone.number"
   ]
  },
  {
   "cell_type": "code",
   "execution_count": 34,
   "id": "36d6b335-82c8-4ccb-bba3-35875827e1b3",
   "metadata": {},
   "outputs": [
    {
     "data": {
      "text/plain": [
       "False"
      ]
     },
     "execution_count": 34,
     "metadata": {},
     "output_type": "execute_result"
    }
   ],
   "source": [
    "my_phone.power"
   ]
  },
  {
   "cell_type": "code",
   "execution_count": 35,
   "id": "ae976253-bc76-47ff-9105-5b83421b14e0",
   "metadata": {},
   "outputs": [],
   "source": [
    "my_phone.on()"
   ]
  },
  {
   "cell_type": "code",
   "execution_count": 36,
   "id": "e215879b-0e53-4ef7-bc6a-a0a487e1b6d4",
   "metadata": {},
   "outputs": [
    {
     "data": {
      "text/plain": [
       "True"
      ]
     },
     "execution_count": 36,
     "metadata": {},
     "output_type": "execute_result"
    }
   ],
   "source": [
    "my_phone.power"
   ]
  },
  {
   "cell_type": "code",
   "execution_count": 40,
   "id": "1f73e6f1-2c5a-453f-b2ae-5d0ac085be23",
   "metadata": {},
   "outputs": [
    {
     "name": "stdout",
     "output_type": "stream",
     "text": [
      "내 번호는 010-1234-1234입니다.\n",
      "112번호로 전화거는중\n"
     ]
    }
   ],
   "source": [
    "my_phone.call('112')"
   ]
  },
  {
   "cell_type": "code",
   "execution_count": 47,
   "id": "db9e6961-46e5-4028-8226-d51d3ea872e7",
   "metadata": {},
   "outputs": [],
   "source": [
    "# 연습\n",
    "class MyList:\n",
    "    data = []\n",
    "\n",
    "    def append(self, item):\n",
    "        self.data = self.data + [item]\n",
    "    # data의 제일 마지막 요소를 삭제하고, 삭제된 요소를 리턴\n",
    "    def pop(self):\n",
    "        num = self.data[-1]\n",
    "        self.data = self.data[:-1]\n",
    "        return num"
   ]
  },
  {
   "cell_type": "code",
   "execution_count": 50,
   "id": "44afdb49-d11a-4b97-89de-6145c969809b",
   "metadata": {},
   "outputs": [
    {
     "name": "stdout",
     "output_type": "stream",
     "text": [
      "[]\n",
      "[5, 1, 10]\n",
      "10\n",
      "[5, 1]\n"
     ]
    }
   ],
   "source": [
    "list_a = MyList()\n",
    "print(list_a.data)\n",
    "\n",
    "list_a.append(5)\n",
    "list_a.append(1)\n",
    "list_a.append(10)\n",
    "print(list_a.data)\n",
    "\n",
    "print(list_a.pop())\n",
    "print(list_a.data)"
   ]
  },
  {
   "cell_type": "code",
   "execution_count": 46,
   "id": "591928d0-b291-4ad0-847d-d84ca7069f45",
   "metadata": {},
   "outputs": [
    {
     "name": "stdout",
     "output_type": "stream",
     "text": [
      "[]\n",
      "[2, 4, 6]\n"
     ]
    }
   ],
   "source": [
    "list_b = MyList()\n",
    "print(list_b.data)\n",
    "\n",
    "list_b.append(2)\n",
    "list_b.append(4)\n",
    "list_b.append(6)\n",
    "print(list_b.data)\n"
   ]
  },
  {
   "cell_type": "code",
   "execution_count": 51,
   "id": "24dbc48d-c771-45d8-aa9d-5f93e1da28b5",
   "metadata": {},
   "outputs": [
    {
     "data": {
      "text/plain": [
       "'kim'"
      ]
     },
     "execution_count": 51,
     "metadata": {},
     "output_type": "execute_result"
    }
   ],
   "source": [
    "# 정리\n",
    "class Person: # => 클래스 정의(선언) : 클래스 객체 생성\n",
    "    name = 'kim' # => 속성(attribute) : 변수/값/데이터\n",
    "\n",
    "    def hello(self): # => 행동(method) : 함수/기능\n",
    "        return self.name\n",
    "\n",
    "p = Person() # => 인스턴스화 / 인스턴스 객체를 생성\n",
    "p.name # => 속성을 호풀\n",
    "p.hello() # => 메소드를 실행"
   ]
  },
  {
   "cell_type": "code",
   "execution_count": 67,
   "id": "9d4ffe5b-9b55-4c86-8a64-8e894b0beaea",
   "metadata": {},
   "outputs": [
    {
     "name": "stdout",
     "output_type": "stream",
     "text": [
      "155000\n",
      "False\n"
     ]
    },
    {
     "ename": "UnboundLocalError",
     "evalue": "cannot access local variable 'power' where it is not associated with a value",
     "output_type": "error",
     "traceback": [
      "\u001b[1;31m---------------------------------------------------------------------------\u001b[0m",
      "\u001b[1;31mUnboundLocalError\u001b[0m                         Traceback (most recent call last)",
      "Cell \u001b[1;32mIn[67], line 37\u001b[0m\n\u001b[0;32m     34\u001b[0m \u001b[38;5;28mprint\u001b[39m(f\u001b[38;5;241m.\u001b[39mprice)\n\u001b[0;32m     36\u001b[0m \u001b[38;5;28mprint\u001b[39m(f\u001b[38;5;241m.\u001b[39mpower)\n\u001b[1;32m---> 37\u001b[0m \u001b[43mf\u001b[49m\u001b[38;5;241;43m.\u001b[39;49m\u001b[43mTurnOn\u001b[49m\u001b[43m(\u001b[49m\u001b[43m)\u001b[49m\n\u001b[0;32m     38\u001b[0m \u001b[38;5;28mprint\u001b[39m(f\u001b[38;5;241m.\u001b[39mpower)\n",
      "Cell \u001b[1;32mIn[67], line 10\u001b[0m, in \u001b[0;36mFan.TurnOn\u001b[1;34m(self)\u001b[0m\n\u001b[0;32m      9\u001b[0m \u001b[38;5;28;01mdef\u001b[39;00m \u001b[38;5;21mTurnOn\u001b[39m(\u001b[38;5;28mself\u001b[39m):\n\u001b[1;32m---> 10\u001b[0m     \u001b[38;5;28;01mif\u001b[39;00m \u001b[43mpower\u001b[49m \u001b[38;5;241m==\u001b[39m \u001b[38;5;28;01mFalse\u001b[39;00m:\n\u001b[0;32m     11\u001b[0m         power \u001b[38;5;241m=\u001b[39m \u001b[38;5;28;01mTrue\u001b[39;00m\n",
      "\u001b[1;31mUnboundLocalError\u001b[0m: cannot access local variable 'power' where it is not associated with a value"
     ]
    }
   ],
   "source": [
    "#문 선풍기 class를 구현해봐라 / 오류 뜸 -> 답변 : 함수 내에 속성 앞에는 self를 붙여줘야한다.\n",
    "class Fan:\n",
    "    model = ''\n",
    "    size = ''\n",
    "    price = ''\n",
    "    power = False\n",
    "    level = 1\n",
    "    \n",
    "    def TurnOn(self):\n",
    "        if power == False:\n",
    "            power = True\n",
    "\n",
    "    def TurnOff(self):\n",
    "        if power == True:\n",
    "            power = False\n",
    "\n",
    "    def Level1(self):\n",
    "        if level != 1:\n",
    "            level = 1\n",
    "\n",
    "    def Level2(self):\n",
    "        if level != 2:\n",
    "            level = 2\n",
    "\n",
    "    def Level3(self):\n",
    "        if level != 3:\n",
    "            level = 3\n",
    "    \n",
    "\n",
    " \n",
    "\n",
    "f = Fan()\n",
    "f.price = 155000\n",
    "print(f.price)\n",
    "\n",
    "print(f.power)\n",
    "f.TurnOn()\n",
    "print(f.power)"
   ]
  },
  {
   "cell_type": "code",
   "execution_count": 68,
   "id": "38d7cb59-a9d9-490c-a2b5-ae9197cec57f",
   "metadata": {},
   "outputs": [
    {
     "name": "stdout",
     "output_type": "stream",
     "text": [
      "155000\n",
      "False\n",
      "True\n"
     ]
    }
   ],
   "source": [
    "#수정\n",
    "class Fan:\n",
    "    model = ''\n",
    "    size = ''\n",
    "    price = ''\n",
    "    power = False\n",
    "    level = 1\n",
    "    \n",
    "    def TurnOn(self):\n",
    "        if self.power == False:\n",
    "            self.power = True\n",
    "\n",
    "    def TurnOff(self):\n",
    "        if self.power == True:\n",
    "            self.power = False\n",
    "\n",
    "    def Level1(self):\n",
    "        if self.level != 1:\n",
    "            self.level = 1\n",
    "\n",
    "    def Level2(self):\n",
    "        if self.level != 2:\n",
    "            self.level = 2\n",
    "\n",
    "    def Level3(self):\n",
    "        if self.level != 3:\n",
    "            self.level = 3\n",
    "    \n",
    "\n",
    " \n",
    "\n",
    "f = Fan()\n",
    "f.price = 155000\n",
    "print(f.price)\n",
    "\n",
    "print(f.power)\n",
    "f.TurnOn()\n",
    "print(f.power)"
   ]
  },
  {
   "cell_type": "code",
   "execution_count": 289,
   "id": "4875e315-ddd9-4a00-b081-90f324a18fc3",
   "metadata": {},
   "outputs": [
    {
     "name": "stdout",
     "output_type": "stream",
     "text": [
      "현재 상태는 약풍\n",
      "현재 상태는 중풍\n",
      "현재 상태는 강풍\n",
      "현재 상태는 꺼짐\n",
      "현재 상태는 약풍\n",
      "현재 상태는 중풍\n",
      "현재 상태는 강풍\n",
      "현재 상태는 꺼짐\n"
     ]
    }
   ],
   "source": [
    "# 강사 입력\n",
    "class Fan:    \n",
    "    power = ['꺼짐', '약풍', '중풍', '강풍']\n",
    "    status = 0\n",
    "\n",
    "    def button(self):\n",
    "        self.status = (self.status + 1) % 4        \n",
    "        print(f'현재 상태는 {self.power[self.status]}')\n",
    "\n",
    "f = Fan()\n",
    "\n",
    "f.button()\n",
    "f.button()\n",
    "f.button()\n",
    "f.button()\n",
    "f.button()\n",
    "f.button()\n",
    "f.button()\n",
    "f.button()\n",
    "\n"
   ]
  },
  {
   "cell_type": "code",
   "execution_count": 69,
   "id": "14e199e8-e5d4-4bc3-9a0f-50c8414101cd",
   "metadata": {},
   "outputs": [],
   "source": [
    "class Person():\n",
    "    name = ''\n",
    "\n",
    "    def hello(self):\n",
    "        print(f'나의 이름은 {self.name}입니다.')"
   ]
  },
  {
   "cell_type": "code",
   "execution_count": 72,
   "id": "4eb57f0a-538f-4ce3-9e6f-194813b8b304",
   "metadata": {},
   "outputs": [
    {
     "name": "stdout",
     "output_type": "stream",
     "text": [
      "\n",
      "나의 이름은 입니다.\n",
      "나의 이름은 kim입니다.\n"
     ]
    }
   ],
   "source": [
    "p = Person()\n",
    "print(p.name)\n",
    "p.hello()\n",
    "p.name = 'kim'\n",
    "p.hello()"
   ]
  },
  {
   "cell_type": "code",
   "execution_count": 73,
   "id": "80eccb95-08ca-480f-a151-19f9d151c460",
   "metadata": {},
   "outputs": [],
   "source": [
    "# self : 인스턴스 객체 자기자신 (다른 언어에서는 this)\n",
    "# - 특별한 상황을 제외하고는 무조건 메소드의 첫번째 인자로 설정한다.\n",
    "# - 인스턴스 메소드를 실행 할 때 자동으로 첫번째 인자에 인스턴스를 할당한다."
   ]
  },
  {
   "cell_type": "code",
   "execution_count": 74,
   "id": "ac7d4d5f-4c9f-4b02-b4e0-9c9542ea641c",
   "metadata": {},
   "outputs": [
    {
     "name": "stdout",
     "output_type": "stream",
     "text": [
      "나의 이름은 입니다.\n",
      "나의 이름은 입니다.\n"
     ]
    }
   ],
   "source": [
    "p1 = Person()\n",
    "# self 매개변수 자리에 p1이라고 하는 인스턴스 객체가 인자로 전달\n",
    "Person.hello(p1)\n",
    "# p1인스턴스 객체에서부터 메소드가 실행되기 때문에 self == p1\n",
    "p1.hello()\n",
    "# 즉, 2번째와 3번째는 같다고 보면 된다."
   ]
  },
  {
   "cell_type": "markdown",
   "id": "0bfaf14a-cd62-4725-b0e5-c6105dc04dcf",
   "metadata": {},
   "source": [
    "## 생성자, 소멸자\n",
    "\n",
    "```python\n",
    "class MyClass:\n",
    "    def __init__(self):\n",
    "        pass\n",
    "\n",
    "    def __del__(self):\n",
    "        pass\n",
    "```"
   ]
  },
  {
   "cell_type": "code",
   "execution_count": 94,
   "id": "3cbb3933-e683-4ce3-9a93-0efd8f9215cb",
   "metadata": {},
   "outputs": [],
   "source": [
    "class Person:\n",
    "    name = 'noname'\n",
    "\n",
    "    def __init__(self, name='익명'):\n",
    "        self.name = name\n",
    "        print('생성됨')\n",
    "\n",
    "    def __del__(self):\n",
    "        print('소멸됨')"
   ]
  },
  {
   "cell_type": "code",
   "execution_count": 95,
   "id": "82b74484-5f92-435a-a188-5abf1db0860e",
   "metadata": {},
   "outputs": [
    {
     "name": "stdout",
     "output_type": "stream",
     "text": [
      "생성됨\n",
      "소멸됨\n",
      "changhee\n"
     ]
    }
   ],
   "source": [
    "p1 = Person() # => Person.__init__(p1,  )\n",
    "# del p1\n",
    "\n",
    "p1.name = 'changhee'\n",
    "print(p1.name)\n"
   ]
  },
  {
   "cell_type": "code",
   "execution_count": 96,
   "id": "d406f282-dc56-4024-b7a3-87cb4c58bf9a",
   "metadata": {},
   "outputs": [
    {
     "name": "stdout",
     "output_type": "stream",
     "text": [
      "생성됨\n",
      "소멸됨\n",
      "kim\n"
     ]
    }
   ],
   "source": [
    "p2 = Person('kim') # => Person.__init__(p2, 'kim')\n",
    "print(p2.name)"
   ]
  },
  {
   "cell_type": "code",
   "execution_count": 111,
   "id": "57569a92-bedf-45e0-9042-87fa068df43c",
   "metadata": {},
   "outputs": [],
   "source": [
    "# Circle 클래스\n",
    "\n",
    "class Circle:\n",
    "    pi = 3.14\n",
    "\n",
    "    def __init__(self, r, x=0, y=0):\n",
    "        self.r = r\n",
    "        self.x = x\n",
    "        self.y = y\n",
    "\n",
    "    def area(self):\n",
    "        return self.pi * self.r ** 2\n",
    "\n",
    "    def move(self, x, y):\n",
    "        self.x = x\n",
    "        self.y = y\n",
    "        print(f'원의 중심이 {x}, {y}로 이동했습니다.')\n",
    "\n",
    "#문 center 코드를 만들어봐라.\n",
    "    def center(self):\n",
    "        #원의 중심을 (x, y)로 반환\n",
    "        return (self.x, self.y)"
   ]
  },
  {
   "cell_type": "code",
   "execution_count": 114,
   "id": "752c5289-d9c6-46b2-82e7-24b6ebc47be1",
   "metadata": {},
   "outputs": [
    {
     "name": "stdout",
     "output_type": "stream",
     "text": [
      "5\n",
      "3\n",
      "28.26\n",
      "원의 중심이 -3, -3로 이동했습니다.\n",
      "(-3, -3)\n",
      "0\n",
      "10\n",
      "원의 중심이 10, 10로 이동했습니다.\n",
      "None\n",
      "(10, 10)\n"
     ]
    }
   ],
   "source": [
    "c1 = Circle(3, 5, 5)\n",
    "print(c1.x)\n",
    "print(c1.r)\n",
    "print(c1.area())\n",
    "c1.move(-3, -3)\n",
    "print(c1.center())\n",
    "\n",
    "c2 = Circle(10)\n",
    "print(c2.x)\n",
    "print(c2.r)\n",
    "print(c2.area())\n",
    "print(c2.move(10, 10))\n",
    "print(c2.center()) "
   ]
  },
  {
   "cell_type": "markdown",
   "id": "efcdc67e-a2a4-4b3e-ab74-d34efea9009b",
   "metadata": {},
   "source": [
    "### 클래스변수\n",
    "- 클래스 선언 블록 최상단에 위치\n",
    "\n",
    "### 인스턴스변수\n",
    "- 인스턴스 내부에서 생성한 변수 (self.variable = )\n",
    "\n",
    "```python\n",
    "class TestClass:\n",
    "    class_variable = '클래스변수'\n",
    "\n",
    "    def __init__(self, arg):\n",
    "        self.instance_variable = '인스턴스변수'\n",
    "\n",
    "    def status(self):\n",
    "        return self.instance_variable\n",
    "```"
   ]
  },
  {
   "cell_type": "code",
   "execution_count": 120,
   "id": "96f7c269-f278-4d4a-9af2-7801bc88274d",
   "metadata": {},
   "outputs": [],
   "source": [
    "class Person:\n",
    "    name = '홍길동'\n",
    "    phone = '010-1234-1234'\n",
    "\n",
    "    def __init__(self, name):\n",
    "        self.name = name"
   ]
  },
  {
   "cell_type": "code",
   "execution_count": 122,
   "id": "fb7eb9e3-81a8-424b-960f-cc90d216d250",
   "metadata": {},
   "outputs": [
    {
     "name": "stdout",
     "output_type": "stream",
     "text": [
      "오창희\n",
      "홍길동\n",
      "010-1234-1234\n"
     ]
    },
    {
     "ename": "AttributeError",
     "evalue": "'Person' object has no attribute 'location'",
     "output_type": "error",
     "traceback": [
      "\u001b[1;31m---------------------------------------------------------------------------\u001b[0m",
      "\u001b[1;31mAttributeError\u001b[0m                            Traceback (most recent call last)",
      "Cell \u001b[1;32mIn[122], line 6\u001b[0m\n\u001b[0;32m      3\u001b[0m \u001b[38;5;28mprint\u001b[39m(Person\u001b[38;5;241m.\u001b[39mname)\n\u001b[0;32m      5\u001b[0m \u001b[38;5;28mprint\u001b[39m(p\u001b[38;5;241m.\u001b[39mphone)\n\u001b[1;32m----> 6\u001b[0m \u001b[38;5;28mprint\u001b[39m(\u001b[43mp\u001b[49m\u001b[38;5;241;43m.\u001b[39;49m\u001b[43mlocation\u001b[49m)\n",
      "\u001b[1;31mAttributeError\u001b[0m: 'Person' object has no attribute 'location'"
     ]
    }
   ],
   "source": [
    "p = Person('오창희')\n",
    "print(p.name)\n",
    "print(Person.name)\n",
    "\n",
    "print(p.phone)\n",
    "#print(p.location)"
   ]
  },
  {
   "cell_type": "markdown",
   "id": "c7b1b750-5cd1-4e2c-ae76-9e5e0fa067e3",
   "metadata": {},
   "source": [
    "### 클래스메소드, 인스턴스메소드, 스태틱메소드\n",
    "\n",
    "```python\n",
    "class MyClass:\n",
    "    def instance_method(self):\n",
    "        pass\n",
    "\n",
    "    @classmethod\n",
    "    def class_method(cls):\n",
    "        pass\n",
    "\n",
    "    @staticmethod\n",
    "    def static_method():\n",
    "        pass\n",
    "```"
   ]
  },
  {
   "cell_type": "code",
   "execution_count": 126,
   "id": "87d999e1-279e-4847-90a1-a9ad724c3dcb",
   "metadata": {},
   "outputs": [],
   "source": [
    "class MyClass:\n",
    "    def instance_method(self):\n",
    "        return self\n",
    "\n",
    "    @classmethod\n",
    "    def class_method(cls):\n",
    "        return cls\n",
    "\n",
    "    @staticmethod\n",
    "    def static_method():\n",
    "        return 'hello'"
   ]
  },
  {
   "cell_type": "code",
   "execution_count": 130,
   "id": "cfca5dbd-a824-47ee-94b2-995c1aa8517e",
   "metadata": {},
   "outputs": [
    {
     "name": "stdout",
     "output_type": "stream",
     "text": [
      "<__main__.MyClass object at 0x00000254E212E110>\n",
      "<class '__main__.MyClass'>\n",
      "<class '__main__.MyClass'>\n",
      "hello\n"
     ]
    }
   ],
   "source": [
    "c1 = MyClass()\n",
    "\n",
    "print(c1.instance_method())\n",
    "print(MyClass.class_method())\n",
    "print(c1.class_method())\n",
    "print(c1.static_method())"
   ]
  },
  {
   "cell_type": "code",
   "execution_count": 140,
   "id": "dd16e41d-6dcd-4cc1-a47f-1875904f2c65",
   "metadata": {},
   "outputs": [],
   "source": [
    "class Puppy:\n",
    "    num_of_puppy = 0\n",
    "\n",
    "    def __init__(self, name):\n",
    "        self.name = name\n",
    "        Puppy.num_of_puppy += 1\n",
    "\n",
    "    @classmethod\n",
    "    def get_status(cls):\n",
    "        return f'현재 강아지는 {cls.num_of_puppy}마리 입니다.'\n",
    "\n",
    "    @staticmethod\n",
    "    def bark(string='멍멍'):\n",
    "        return string"
   ]
  },
  {
   "cell_type": "code",
   "execution_count": 141,
   "id": "71c4d929-9ac9-430f-9ff2-3d679c8f8a7c",
   "metadata": {},
   "outputs": [
    {
     "name": "stdout",
     "output_type": "stream",
     "text": [
      "3\n",
      "3\n",
      "3\n",
      "현재 강아지는 3마리 입니다.\n",
      "멍멍\n",
      "그르릉\n"
     ]
    }
   ],
   "source": [
    "p1 = Puppy('또또')\n",
    "p2 = Puppy('몽이')\n",
    "p3 = Puppy('흰둥이')\n",
    "\n",
    "print(p1.num_of_puppy)\n",
    "print(p2.num_of_puppy)\n",
    "print(Puppy.num_of_puppy)\n",
    "print(Puppy.get_status())\n",
    "\n",
    "print(p1.bark())\n",
    "print(p2.bark('그르릉'))"
   ]
  },
  {
   "cell_type": "markdown",
   "id": "d752db26-a589-4944-a5c0-99469514645a",
   "metadata": {},
   "source": [
    "## 정리\n",
    "\n",
    "```\n",
    "class\n",
    "    - attribute (variable, data)\n",
    "        - class_variable\n",
    "        - instance_variable\n",
    "    - method\n",
    "        - class_method\n",
    "        - instance_method\n",
    "        - static_method\n",
    "```"
   ]
  },
  {
   "cell_type": "markdown",
   "id": "6c8cfee6-735d-4dca-8628-c672c80e5071",
   "metadata": {},
   "source": [
    "# 상속"
   ]
  },
  {
   "cell_type": "code",
   "execution_count": 145,
   "id": "2c167d9e-03df-4faf-bd3c-6a9633f0ed24",
   "metadata": {},
   "outputs": [],
   "source": [
    "class Person:\n",
    "\n",
    "    def __init__(self, name):\n",
    "        self.name = name\n",
    "\n",
    "    def greeting(self):\n",
    "        print(f'안녕하세요 {self.name}입니다.')"
   ]
  },
  {
   "cell_type": "code",
   "execution_count": 147,
   "id": "c99ed727-adb8-483a-ab4d-6cb0c05b1141",
   "metadata": {},
   "outputs": [
    {
     "name": "stdout",
     "output_type": "stream",
     "text": [
      "안녕하세요 홍길동입니다.\n"
     ]
    }
   ],
   "source": [
    "p1 = Person('홍길동')\n",
    "p2 = Person('이순신')\n",
    "\n",
    "p1.greeting()"
   ]
  },
  {
   "cell_type": "code",
   "execution_count": 151,
   "id": "576ae843-ee93-4e4a-9e01-60bf304811db",
   "metadata": {},
   "outputs": [],
   "source": [
    "class Student(Person):\n",
    "     #상속\n",
    "    #def __init__(self, name):\n",
    "    #     self.name = name\n",
    "\n",
    "    # def greeting(self):\n",
    "    #     print(f'안녕하세요 {self.name}입니다.')\n",
    "    \n",
    "    def __init__(self, name, student_id):\n",
    "            self.name = name\n",
    "            self.student_id = student_id\n",
    "    \n",
    "    "
   ]
  },
  {
   "cell_type": "code",
   "execution_count": 153,
   "id": "2f66caac-d59c-4ce2-8082-f7b3790fcdac",
   "metadata": {},
   "outputs": [
    {
     "name": "stdout",
     "output_type": "stream",
     "text": [
      "안녕하세요 kim입니다.\n",
      "12345\n"
     ]
    }
   ],
   "source": [
    "s1 = Student('kim', 12345)\n",
    "s2 = Student('park', 98765)\n",
    "\n",
    "s1.greeting()\n",
    "print(s1.student_id)"
   ]
  },
  {
   "cell_type": "code",
   "execution_count": 154,
   "id": "566781f5-b286-4c46-abb5-07ffc818ed01",
   "metadata": {},
   "outputs": [],
   "source": [
    "class Soldier(Person):\n",
    "\n",
    "    def greeting(self):\n",
    "        return f'충성! {self.name}입니다.'"
   ]
  },
  {
   "cell_type": "code",
   "execution_count": 156,
   "id": "ffdab103-03b0-4ac3-bc62-309455f5b6ae",
   "metadata": {},
   "outputs": [
    {
     "data": {
      "text/plain": [
       "'충성! 국방이입니다.'"
      ]
     },
     "execution_count": 156,
     "metadata": {},
     "output_type": "execute_result"
    }
   ],
   "source": [
    "s1 = Soldier('국방이')\n",
    "s1.greeting()"
   ]
  },
  {
   "cell_type": "code",
   "execution_count": 157,
   "id": "3b6e67b3-9636-4b01-8f8e-3edf9330ffda",
   "metadata": {},
   "outputs": [],
   "source": [
    "class Person:\n",
    "    def __init__(self, email, phone, location, name):\n",
    "        self.email = email\n",
    "        self.phone = phone\n",
    "        self.location = location\n",
    "        self.name = name\n",
    "\n",
    "class Student(Person):\n",
    "    def __init__(self, email, phone, location, name, student_id):\n",
    "        self.email = email\n",
    "        self.phone = phone\n",
    "        self.location = location\n",
    "        self.name = name\n",
    "        self.student_id = student_id\n",
    "\n",
    "class Soldier(Person):\n",
    "    def __init__(self, email, phone, location, name, soldier_id):\n",
    "        # super() => 부모클래스 (Person)를 반환\n",
    "        super().__init__(email, phone, location, name)\n",
    "        self.soldier_id = soldier_id\n",
    "\n"
   ]
  },
  {
   "cell_type": "code",
   "execution_count": 158,
   "id": "cbff02a0-cc6a-41d2-aa42-152ae82e5125",
   "metadata": {},
   "outputs": [
    {
     "name": "stdout",
     "output_type": "stream",
     "text": [
      "kim\n",
      "12345\n"
     ]
    }
   ],
   "source": [
    "s1 = Soldier('aa@aaa.com', '010-1234-1234', 'seoul', 'kim', '12345')\n",
    "print(s1.name)\n",
    "print(s1.soldier_id)"
   ]
  },
  {
   "cell_type": "code",
   "execution_count": 164,
   "id": "a12208b0-08fb-4136-9857-9c471411a9db",
   "metadata": {},
   "outputs": [],
   "source": [
    "class Person:\n",
    "    def __init__(self, name):\n",
    "        self.name = name\n",
    "\n",
    "    def breath(self):\n",
    "        print('후하')\n",
    "        "
   ]
  },
  {
   "cell_type": "code",
   "execution_count": 165,
   "id": "472fabcb-3fb4-4ae3-b9f2-bf251ae7ad6a",
   "metadata": {},
   "outputs": [],
   "source": [
    "class Mom(Person):\n",
    "    gene = 'xx'\n",
    "\n",
    "    def swim(self):\n",
    "        print('어푸어푸')"
   ]
  },
  {
   "cell_type": "code",
   "execution_count": 177,
   "id": "db471253-03fd-4632-bf7d-5fdf31fb06eb",
   "metadata": {},
   "outputs": [],
   "source": [
    "class Dad(Person):\n",
    "    gene = 'xy'\n",
    "\n",
    "    def run(self):\n",
    "        print('다다다')"
   ]
  },
  {
   "cell_type": "code",
   "execution_count": 178,
   "id": "4a74234f-070b-4cd1-b5eb-10d51bc48a9e",
   "metadata": {},
   "outputs": [],
   "source": [
    "class Baby(Mom, Dad):\n",
    "    pass"
   ]
  },
  {
   "cell_type": "code",
   "execution_count": 179,
   "id": "4b9d332c-eee5-4cd6-ba7e-5d179d177152",
   "metadata": {},
   "outputs": [
    {
     "name": "stdout",
     "output_type": "stream",
     "text": [
      "후하\n",
      "어푸어푸\n",
      "다다다\n",
      "xx\n"
     ]
    }
   ],
   "source": [
    "b = Baby('금쪽이')\n",
    "b.breath()\n",
    "b.swim()\n",
    "b.run()\n",
    "# 다중상속을 한 경우, 먼저 상속받은 데이터/메소드가 우선\n",
    "print(b.gene)"
   ]
  },
  {
   "cell_type": "code",
   "execution_count": 268,
   "id": "2de2f175-6108-4952-8aa3-0d59227dbebe",
   "metadata": {},
   "outputs": [],
   "source": [
    "class Pocketmon:\n",
    "    def __init__(self, property, att=0, life=0):\n",
    "        \n",
    "        self.att = att\n",
    "        self.life = life\n",
    "        self.property = property\n",
    "\n",
    "    @classmethod\n",
    "    def fight(cls, a, b):\n",
    "\n",
    "        while a.life >= 0 or b.life >= 0:\n",
    "            b.life = a.life - b.att\n",
    "            print(f'{a}가 {b}에게 {a.att}의 데미지를 입혔습니다. {b}의 체력이 {b.life} (이)가 됩니다.')\n",
    "            if a.life <= 0:\n",
    "                print('b가 이겼습니다.')\n",
    "                break\n",
    "            a.life = b.life - a.att\n",
    "            print(f'{b}가 {a}에게 {b.att}의 데미지를 입혔습니다. {a}의 체력이 {a.life} (이)가 됩니다.')\n",
    "            if b.life <= 0:\n",
    "                print('a가 이겼습니다.')\n",
    "                break\n",
    "            \n",
    "\n"
   ]
  },
  {
   "cell_type": "code",
   "execution_count": 269,
   "id": "9a82eb70-b550-4bac-a986-40336ff35da0",
   "metadata": {},
   "outputs": [],
   "source": [
    "class Property(Pocketmon):\n",
    "    def __init__(self, property, att=0, life=0):\n",
    "        if property == 'water': #불을 만나면 2배, 풀을 만나면 0.5\n",
    "            pass\n",
    "        if property == 'fire': #풀을 만나면 2배, 물을 만나면 0.5\n",
    "            pass\n",
    "        if property == 'plant': #물을 만나면 2배, 불을 만나면 0.5\n",
    "            pass\n"
   ]
  },
  {
   "cell_type": "code",
   "execution_count": 270,
   "id": "fc100e31-d8c1-43ae-8028-9d22b1d1867a",
   "metadata": {},
   "outputs": [],
   "source": [
    "pai = Pocketmon('fire', 5, 100)"
   ]
  },
  {
   "cell_type": "code",
   "execution_count": 271,
   "id": "baf0016c-c7c3-4624-b54d-c47cf089a35b",
   "metadata": {},
   "outputs": [],
   "source": [
    "kobu = Pocketmon('water', 7, 80)"
   ]
  },
  {
   "cell_type": "code",
   "execution_count": 272,
   "id": "7786adb1-fd3b-4408-b7c1-da1e6e889f24",
   "metadata": {},
   "outputs": [
    {
     "name": "stdout",
     "output_type": "stream",
     "text": [
      "100\n"
     ]
    }
   ],
   "source": [
    "print(파이리.life)"
   ]
  },
  {
   "cell_type": "code",
   "execution_count": 273,
   "id": "a6149fde-4b37-4c69-b0c8-8dd5541b6bc0",
   "metadata": {},
   "outputs": [
    {
     "name": "stdout",
     "output_type": "stream",
     "text": [
      "<__main__.Pocketmon object at 0x00000254E1FEEF90>가 <__main__.Pocketmon object at 0x00000254E1FAAF90>에게 5의 데미지를 입혔습니다. <__main__.Pocketmon object at 0x00000254E1FAAF90>의 체력이 93 (이)가 됩니다.\n",
      "<__main__.Pocketmon object at 0x00000254E1FAAF90>가 <__main__.Pocketmon object at 0x00000254E1FEEF90>에게 7의 데미지를 입혔습니다. <__main__.Pocketmon object at 0x00000254E1FEEF90>의 체력이 88 (이)가 됩니다.\n",
      "<__main__.Pocketmon object at 0x00000254E1FEEF90>가 <__main__.Pocketmon object at 0x00000254E1FAAF90>에게 5의 데미지를 입혔습니다. <__main__.Pocketmon object at 0x00000254E1FAAF90>의 체력이 81 (이)가 됩니다.\n",
      "<__main__.Pocketmon object at 0x00000254E1FAAF90>가 <__main__.Pocketmon object at 0x00000254E1FEEF90>에게 7의 데미지를 입혔습니다. <__main__.Pocketmon object at 0x00000254E1FEEF90>의 체력이 76 (이)가 됩니다.\n",
      "<__main__.Pocketmon object at 0x00000254E1FEEF90>가 <__main__.Pocketmon object at 0x00000254E1FAAF90>에게 5의 데미지를 입혔습니다. <__main__.Pocketmon object at 0x00000254E1FAAF90>의 체력이 69 (이)가 됩니다.\n",
      "<__main__.Pocketmon object at 0x00000254E1FAAF90>가 <__main__.Pocketmon object at 0x00000254E1FEEF90>에게 7의 데미지를 입혔습니다. <__main__.Pocketmon object at 0x00000254E1FEEF90>의 체력이 64 (이)가 됩니다.\n",
      "<__main__.Pocketmon object at 0x00000254E1FEEF90>가 <__main__.Pocketmon object at 0x00000254E1FAAF90>에게 5의 데미지를 입혔습니다. <__main__.Pocketmon object at 0x00000254E1FAAF90>의 체력이 57 (이)가 됩니다.\n",
      "<__main__.Pocketmon object at 0x00000254E1FAAF90>가 <__main__.Pocketmon object at 0x00000254E1FEEF90>에게 7의 데미지를 입혔습니다. <__main__.Pocketmon object at 0x00000254E1FEEF90>의 체력이 52 (이)가 됩니다.\n",
      "<__main__.Pocketmon object at 0x00000254E1FEEF90>가 <__main__.Pocketmon object at 0x00000254E1FAAF90>에게 5의 데미지를 입혔습니다. <__main__.Pocketmon object at 0x00000254E1FAAF90>의 체력이 45 (이)가 됩니다.\n",
      "<__main__.Pocketmon object at 0x00000254E1FAAF90>가 <__main__.Pocketmon object at 0x00000254E1FEEF90>에게 7의 데미지를 입혔습니다. <__main__.Pocketmon object at 0x00000254E1FEEF90>의 체력이 40 (이)가 됩니다.\n",
      "<__main__.Pocketmon object at 0x00000254E1FEEF90>가 <__main__.Pocketmon object at 0x00000254E1FAAF90>에게 5의 데미지를 입혔습니다. <__main__.Pocketmon object at 0x00000254E1FAAF90>의 체력이 33 (이)가 됩니다.\n",
      "<__main__.Pocketmon object at 0x00000254E1FAAF90>가 <__main__.Pocketmon object at 0x00000254E1FEEF90>에게 7의 데미지를 입혔습니다. <__main__.Pocketmon object at 0x00000254E1FEEF90>의 체력이 28 (이)가 됩니다.\n",
      "<__main__.Pocketmon object at 0x00000254E1FEEF90>가 <__main__.Pocketmon object at 0x00000254E1FAAF90>에게 5의 데미지를 입혔습니다. <__main__.Pocketmon object at 0x00000254E1FAAF90>의 체력이 21 (이)가 됩니다.\n",
      "<__main__.Pocketmon object at 0x00000254E1FAAF90>가 <__main__.Pocketmon object at 0x00000254E1FEEF90>에게 7의 데미지를 입혔습니다. <__main__.Pocketmon object at 0x00000254E1FEEF90>의 체력이 16 (이)가 됩니다.\n",
      "<__main__.Pocketmon object at 0x00000254E1FEEF90>가 <__main__.Pocketmon object at 0x00000254E1FAAF90>에게 5의 데미지를 입혔습니다. <__main__.Pocketmon object at 0x00000254E1FAAF90>의 체력이 9 (이)가 됩니다.\n",
      "<__main__.Pocketmon object at 0x00000254E1FAAF90>가 <__main__.Pocketmon object at 0x00000254E1FEEF90>에게 7의 데미지를 입혔습니다. <__main__.Pocketmon object at 0x00000254E1FEEF90>의 체력이 4 (이)가 됩니다.\n",
      "<__main__.Pocketmon object at 0x00000254E1FEEF90>가 <__main__.Pocketmon object at 0x00000254E1FAAF90>에게 5의 데미지를 입혔습니다. <__main__.Pocketmon object at 0x00000254E1FAAF90>의 체력이 -3 (이)가 됩니다.\n",
      "<__main__.Pocketmon object at 0x00000254E1FAAF90>가 <__main__.Pocketmon object at 0x00000254E1FEEF90>에게 7의 데미지를 입혔습니다. <__main__.Pocketmon object at 0x00000254E1FEEF90>의 체력이 -8 (이)가 됩니다.\n",
      "a가 이겼습니다.\n"
     ]
    }
   ],
   "source": [
    "Pocketmon.fight(pai, kobu)"
   ]
  },
  {
   "cell_type": "code",
   "execution_count": null,
   "id": "eccdeaf0-0534-4d4c-8662-e8414e106799",
   "metadata": {},
   "outputs": [],
   "source": []
  }
 ],
 "metadata": {
  "kernelspec": {
   "display_name": "Python 3 (ipykernel)",
   "language": "python",
   "name": "python3"
  },
  "language_info": {
   "codemirror_mode": {
    "name": "ipython",
    "version": 3
   },
   "file_extension": ".py",
   "mimetype": "text/x-python",
   "name": "python",
   "nbconvert_exporter": "python",
   "pygments_lexer": "ipython3",
   "version": "3.11.4"
  }
 },
 "nbformat": 4,
 "nbformat_minor": 5
}
